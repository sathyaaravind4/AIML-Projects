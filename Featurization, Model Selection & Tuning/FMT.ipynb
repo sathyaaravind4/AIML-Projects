{
 "cells": [
  {
   "cell_type": "markdown",
   "id": "5ec5e38d",
   "metadata": {},
   "source": [
    "# FMT Module Project"
   ]
  },
  {
   "cell_type": "code",
   "execution_count": 1,
   "id": "5f5c320f",
   "metadata": {},
   "outputs": [],
   "source": [
    "import numpy as np\n",
    "import pandas as pd\n",
    "import matplotlib.pyplot as plt\n",
    "import seaborn as sns"
   ]
  },
  {
   "cell_type": "markdown",
   "id": "04a70111",
   "metadata": {},
   "source": [
    "Question 1. Import and understand the data"
   ]
  },
  {
   "cell_type": "markdown",
   "id": "40e7e8e3",
   "metadata": {},
   "source": [
    "1.A. Import ‘signal-data.csv’ as DataFrame"
   ]
  },
  {
   "cell_type": "code",
   "execution_count": 2,
   "id": "43ff32cb",
   "metadata": {},
   "outputs": [],
   "source": [
    "Signal = pd.read_csv(r'C:\\Users\\GARAVIN4\\Documents\\GL Course\\FMT\\signal-data.csv')"
   ]
  },
  {
   "cell_type": "markdown",
   "id": "99459b7e",
   "metadata": {},
   "source": [
    "1.B. Print 5 point summary and share at least 2 observations"
   ]
  },
  {
   "cell_type": "code",
   "execution_count": 3,
   "id": "e2df4420",
   "metadata": {},
   "outputs": [
    {
     "data": {
      "text/html": [
       "<div>\n",
       "<style scoped>\n",
       "    .dataframe tbody tr th:only-of-type {\n",
       "        vertical-align: middle;\n",
       "    }\n",
       "\n",
       "    .dataframe tbody tr th {\n",
       "        vertical-align: top;\n",
       "    }\n",
       "\n",
       "    .dataframe thead th {\n",
       "        text-align: right;\n",
       "    }\n",
       "</style>\n",
       "<table border=\"1\" class=\"dataframe\">\n",
       "  <thead>\n",
       "    <tr style=\"text-align: right;\">\n",
       "      <th></th>\n",
       "      <th>count</th>\n",
       "      <th>mean</th>\n",
       "      <th>std</th>\n",
       "      <th>min</th>\n",
       "      <th>25%</th>\n",
       "      <th>50%</th>\n",
       "      <th>75%</th>\n",
       "      <th>max</th>\n",
       "    </tr>\n",
       "  </thead>\n",
       "  <tbody>\n",
       "    <tr>\n",
       "      <th>0</th>\n",
       "      <td>1561.0</td>\n",
       "      <td>3014.452896</td>\n",
       "      <td>73.621787</td>\n",
       "      <td>2743.2400</td>\n",
       "      <td>2966.260000</td>\n",
       "      <td>3011.4900</td>\n",
       "      <td>3056.6500</td>\n",
       "      <td>3356.3500</td>\n",
       "    </tr>\n",
       "    <tr>\n",
       "      <th>1</th>\n",
       "      <td>1560.0</td>\n",
       "      <td>2495.850231</td>\n",
       "      <td>80.407705</td>\n",
       "      <td>2158.7500</td>\n",
       "      <td>2452.247500</td>\n",
       "      <td>2499.4050</td>\n",
       "      <td>2538.8225</td>\n",
       "      <td>2846.4400</td>\n",
       "    </tr>\n",
       "    <tr>\n",
       "      <th>2</th>\n",
       "      <td>1553.0</td>\n",
       "      <td>2200.547318</td>\n",
       "      <td>29.513152</td>\n",
       "      <td>2060.6600</td>\n",
       "      <td>2181.044400</td>\n",
       "      <td>2201.0667</td>\n",
       "      <td>2218.0555</td>\n",
       "      <td>2315.2667</td>\n",
       "    </tr>\n",
       "    <tr>\n",
       "      <th>3</th>\n",
       "      <td>1553.0</td>\n",
       "      <td>1396.376627</td>\n",
       "      <td>441.691640</td>\n",
       "      <td>0.0000</td>\n",
       "      <td>1081.875800</td>\n",
       "      <td>1285.2144</td>\n",
       "      <td>1591.2235</td>\n",
       "      <td>3715.0417</td>\n",
       "    </tr>\n",
       "    <tr>\n",
       "      <th>4</th>\n",
       "      <td>1553.0</td>\n",
       "      <td>4.197013</td>\n",
       "      <td>56.355540</td>\n",
       "      <td>0.6815</td>\n",
       "      <td>1.017700</td>\n",
       "      <td>1.3168</td>\n",
       "      <td>1.5257</td>\n",
       "      <td>1114.5366</td>\n",
       "    </tr>\n",
       "    <tr>\n",
       "      <th>...</th>\n",
       "      <td>...</td>\n",
       "      <td>...</td>\n",
       "      <td>...</td>\n",
       "      <td>...</td>\n",
       "      <td>...</td>\n",
       "      <td>...</td>\n",
       "      <td>...</td>\n",
       "      <td>...</td>\n",
       "    </tr>\n",
       "    <tr>\n",
       "      <th>586</th>\n",
       "      <td>1566.0</td>\n",
       "      <td>0.021458</td>\n",
       "      <td>0.012358</td>\n",
       "      <td>-0.0169</td>\n",
       "      <td>0.013425</td>\n",
       "      <td>0.0205</td>\n",
       "      <td>0.0276</td>\n",
       "      <td>0.1028</td>\n",
       "    </tr>\n",
       "    <tr>\n",
       "      <th>587</th>\n",
       "      <td>1566.0</td>\n",
       "      <td>0.016475</td>\n",
       "      <td>0.008808</td>\n",
       "      <td>0.0032</td>\n",
       "      <td>0.010600</td>\n",
       "      <td>0.0148</td>\n",
       "      <td>0.0203</td>\n",
       "      <td>0.0799</td>\n",
       "    </tr>\n",
       "    <tr>\n",
       "      <th>588</th>\n",
       "      <td>1566.0</td>\n",
       "      <td>0.005283</td>\n",
       "      <td>0.002867</td>\n",
       "      <td>0.0010</td>\n",
       "      <td>0.003300</td>\n",
       "      <td>0.0046</td>\n",
       "      <td>0.0064</td>\n",
       "      <td>0.0286</td>\n",
       "    </tr>\n",
       "    <tr>\n",
       "      <th>589</th>\n",
       "      <td>1566.0</td>\n",
       "      <td>99.670066</td>\n",
       "      <td>93.891919</td>\n",
       "      <td>0.0000</td>\n",
       "      <td>44.368600</td>\n",
       "      <td>71.9005</td>\n",
       "      <td>114.7497</td>\n",
       "      <td>737.3048</td>\n",
       "    </tr>\n",
       "    <tr>\n",
       "      <th>Pass/Fail</th>\n",
       "      <td>1567.0</td>\n",
       "      <td>-0.867262</td>\n",
       "      <td>0.498010</td>\n",
       "      <td>-1.0000</td>\n",
       "      <td>-1.000000</td>\n",
       "      <td>-1.0000</td>\n",
       "      <td>-1.0000</td>\n",
       "      <td>1.0000</td>\n",
       "    </tr>\n",
       "  </tbody>\n",
       "</table>\n",
       "<p>591 rows × 8 columns</p>\n",
       "</div>"
      ],
      "text/plain": [
       "            count         mean         std        min          25%        50%  \\\n",
       "0          1561.0  3014.452896   73.621787  2743.2400  2966.260000  3011.4900   \n",
       "1          1560.0  2495.850231   80.407705  2158.7500  2452.247500  2499.4050   \n",
       "2          1553.0  2200.547318   29.513152  2060.6600  2181.044400  2201.0667   \n",
       "3          1553.0  1396.376627  441.691640     0.0000  1081.875800  1285.2144   \n",
       "4          1553.0     4.197013   56.355540     0.6815     1.017700     1.3168   \n",
       "...           ...          ...         ...        ...          ...        ...   \n",
       "586        1566.0     0.021458    0.012358    -0.0169     0.013425     0.0205   \n",
       "587        1566.0     0.016475    0.008808     0.0032     0.010600     0.0148   \n",
       "588        1566.0     0.005283    0.002867     0.0010     0.003300     0.0046   \n",
       "589        1566.0    99.670066   93.891919     0.0000    44.368600    71.9005   \n",
       "Pass/Fail  1567.0    -0.867262    0.498010    -1.0000    -1.000000    -1.0000   \n",
       "\n",
       "                 75%        max  \n",
       "0          3056.6500  3356.3500  \n",
       "1          2538.8225  2846.4400  \n",
       "2          2218.0555  2315.2667  \n",
       "3          1591.2235  3715.0417  \n",
       "4             1.5257  1114.5366  \n",
       "...              ...        ...  \n",
       "586           0.0276     0.1028  \n",
       "587           0.0203     0.0799  \n",
       "588           0.0064     0.0286  \n",
       "589         114.7497   737.3048  \n",
       "Pass/Fail    -1.0000     1.0000  \n",
       "\n",
       "[591 rows x 8 columns]"
      ]
     },
     "execution_count": 3,
     "metadata": {},
     "output_type": "execute_result"
    }
   ],
   "source": [
    "Signal.describe().transpose()"
   ]
  },
  {
   "cell_type": "code",
   "execution_count": 4,
   "id": "4a48356d",
   "metadata": {},
   "outputs": [
    {
     "data": {
      "text/plain": [
       "1561.0    100\n",
       "1566.0     92\n",
       "1565.0     84\n",
       "1567.0     53\n",
       "1558.0     48\n",
       "1543.0     43\n",
       "1564.0     24\n",
       "1563.0     24\n",
       "1553.0     20\n",
       "1560.0     20\n",
       "1559.0     12\n",
       "1307.0     12\n",
       "549.0      12\n",
       "1294.0      8\n",
       "1516.0      8\n",
       "138.0       4\n",
       "773.0       4\n",
       "852.0       4\n",
       "226.0       4\n",
       "1555.0      4\n",
       "1557.0      4\n",
       "618.0       4\n",
       "1562.0      3\n",
       "Name: count, dtype: int64"
      ]
     },
     "execution_count": 4,
     "metadata": {},
     "output_type": "execute_result"
    }
   ],
   "source": [
    "Signal.describe().transpose()['count'].value_counts()"
   ]
  },
  {
   "cell_type": "code",
   "execution_count": 5,
   "id": "ba323159",
   "metadata": {},
   "outputs": [
    {
     "data": {
      "text/html": [
       "<div>\n",
       "<style scoped>\n",
       "    .dataframe tbody tr th:only-of-type {\n",
       "        vertical-align: middle;\n",
       "    }\n",
       "\n",
       "    .dataframe tbody tr th {\n",
       "        vertical-align: top;\n",
       "    }\n",
       "\n",
       "    .dataframe thead th {\n",
       "        text-align: right;\n",
       "    }\n",
       "</style>\n",
       "<table border=\"1\" class=\"dataframe\">\n",
       "  <thead>\n",
       "    <tr style=\"text-align: right;\">\n",
       "      <th></th>\n",
       "      <th>count</th>\n",
       "      <th>mean</th>\n",
       "      <th>std</th>\n",
       "      <th>min</th>\n",
       "      <th>25%</th>\n",
       "      <th>50%</th>\n",
       "      <th>75%</th>\n",
       "      <th>max</th>\n",
       "    </tr>\n",
       "  </thead>\n",
       "  <tbody>\n",
       "    <tr>\n",
       "      <th>mean</th>\n",
       "      <td>591.0</td>\n",
       "      <td>87.060948</td>\n",
       "      <td>609.315811</td>\n",
       "      <td>-5618.39361</td>\n",
       "      <td>0.001555</td>\n",
       "      <td>0.744976</td>\n",
       "      <td>10.100814</td>\n",
       "      <td>8827.536865</td>\n",
       "    </tr>\n",
       "    <tr>\n",
       "      <th>std</th>\n",
       "      <td>591.0</td>\n",
       "      <td>58.810242</td>\n",
       "      <td>387.113043</td>\n",
       "      <td>0.00000</td>\n",
       "      <td>0.003159</td>\n",
       "      <td>0.177600</td>\n",
       "      <td>6.281289</td>\n",
       "      <td>6553.569317</td>\n",
       "    </tr>\n",
       "  </tbody>\n",
       "</table>\n",
       "</div>"
      ],
      "text/plain": [
       "      count       mean         std         min       25%       50%        75%  \\\n",
       "mean  591.0  87.060948  609.315811 -5618.39361  0.001555  0.744976  10.100814   \n",
       "std   591.0  58.810242  387.113043     0.00000  0.003159  0.177600   6.281289   \n",
       "\n",
       "              max  \n",
       "mean  8827.536865  \n",
       "std   6553.569317  "
      ]
     },
     "execution_count": 5,
     "metadata": {},
     "output_type": "execute_result"
    }
   ],
   "source": [
    "Signal.describe().transpose()[['mean', 'std']].describe().transpose()"
   ]
  },
  {
   "cell_type": "markdown",
   "id": "e784fcc1",
   "metadata": {},
   "source": [
    "Observations:\n",
    "    \n",
    "    1. Some features have many missing values so could be removed\n",
    "    2. Mean and std deviation have lot of variation across all the features as evident from min and max values as above"
   ]
  },
  {
   "cell_type": "markdown",
   "id": "866ad78c",
   "metadata": {},
   "source": [
    "Question 2. Data cleansing"
   ]
  },
  {
   "cell_type": "markdown",
   "id": "754c5fcb",
   "metadata": {},
   "source": [
    "2.A. Write a for loop which will remove all the features with 20%+ Null values and impute rest with mean of the feature"
   ]
  },
  {
   "cell_type": "code",
   "execution_count": 6,
   "id": "da06475d",
   "metadata": {},
   "outputs": [],
   "source": [
    "# Define the threshold for null values\n",
    "threshold = 0.2\n",
    "\n",
    "# Loop through each column in the dataset\n",
    "for column in Signal.columns:\n",
    "    \n",
    "    # Calculate the percentage of null values in the column\n",
    "    null_percentage = Signal[column].isnull().sum() / len(Signal)\n",
    "    \n",
    "    # Check if the column is numeric\n",
    "    if pd.api.types.is_numeric_dtype(Signal[column]):\n",
    "        \n",
    "        # If the percentage of null values is less than the threshold, impute with the column mean\n",
    "        if null_percentage < threshold:\n",
    "            column_mean = Signal[column].mean()\n",
    "            Signal[column].fillna(column_mean, inplace=True)\n",
    "        \n",
    "        # Otherwise, remove the column\n",
    "        else:\n",
    "            Signal.drop(column, axis=1, inplace=True)\n",
    "    \n",
    "    # If the column is not numeric, remove it only if the null_percentage >= threshold\n",
    "    else:\n",
    "        if null_percentage >= threshold:\n",
    "            Signal.drop(column, axis=1, inplace=True)"
   ]
  },
  {
   "cell_type": "markdown",
   "id": "171c0f5f",
   "metadata": {},
   "source": [
    "2.B. Identify and drop the features which are having same value for all the row"
   ]
  },
  {
   "cell_type": "code",
   "execution_count": 7,
   "id": "783b3055",
   "metadata": {},
   "outputs": [],
   "source": [
    "# Identify the columns with the same value for all rows\n",
    "same_value_columns = []\n",
    "for column in Signal.columns:\n",
    "    if Signal[column].nunique() == 1:\n",
    "        same_value_columns.append(column)\n",
    "\n",
    "# Drop the identified columns\n",
    "Signal.drop(same_value_columns, axis=1, inplace=True)"
   ]
  },
  {
   "cell_type": "code",
   "execution_count": 8,
   "id": "9cc74f79",
   "metadata": {},
   "outputs": [
    {
     "name": "stdout",
     "output_type": "stream",
     "text": [
      "<class 'pandas.core.frame.DataFrame'>\n",
      "RangeIndex: 1567 entries, 0 to 1566\n",
      "Columns: 444 entries, Time to Pass/Fail\n",
      "dtypes: float64(442), int64(1), object(1)\n",
      "memory usage: 5.3+ MB\n"
     ]
    }
   ],
   "source": [
    "Signal.info()"
   ]
  },
  {
   "cell_type": "markdown",
   "id": "0ee34139",
   "metadata": {},
   "source": [
    "2.C. Drop other features if required using relevant functional knowledge. Clearly justify the same"
   ]
  },
  {
   "cell_type": "code",
   "execution_count": 9,
   "id": "f1b41838",
   "metadata": {},
   "outputs": [],
   "source": [
    "Signal.drop(\"Time\", axis=1, inplace=True) # Removing Time feature as it is not numeric"
   ]
  },
  {
   "cell_type": "code",
   "execution_count": 10,
   "id": "b8c3147f",
   "metadata": {},
   "outputs": [],
   "source": [
    "# Using logistic regression model to do backward elimination\n",
    "from sklearn.linear_model import LogisticRegression\n",
    "from sklearn.preprocessing import StandardScaler\n",
    "from sklearn.feature_selection import SelectFromModel\n",
    "from sklearn.feature_selection import RFE\n",
    "from sklearn.model_selection import cross_val_score\n",
    "\n",
    "# Remove the target variable column from the DataFrame\n",
    "X = Signal.drop('Pass/Fail', axis=1)\n",
    "y = Signal['Pass/Fail']\n",
    "\n",
    "# Scale the input features using StandardScaler\n",
    "scaler = StandardScaler()\n",
    "X_scaled = scaler.fit_transform(X)\n",
    "\n",
    "# Convert X_scaled into a dataframe\n",
    "df = pd.DataFrame(X_scaled, columns=X.columns)"
   ]
  },
  {
   "cell_type": "code",
   "execution_count": 11,
   "id": "0d3cc9fa",
   "metadata": {},
   "outputs": [
    {
     "name": "stdout",
     "output_type": "stream",
     "text": [
      "['7', '14', '17', '19', '25', '26', '29', '30', '32', '35', '40', '43', '45', '53', '56', '59', '60', '61', '62', '64', '65', '66', '67', '70', '75', '92', '99', '105', '117', '129', '130', '131', '132', '138', '142', '143', '145', '151', '155', '168', '176', '188', '196', '204', '205', '210', '214', '216', '228', '239', '249', '250', '268', '277', '289', '301', '303', '305', '310', '311', '312', '324', '332', '333', '337', '338', '340', '348', '349', '354', '357', '359', '366', '377', '386', '388', '406', '415', '424', '425', '428', '430', '435', '439', '441', '446', '454', '455', '471', '488', '491', '493', '511', '520', '540', '566', '568', '574', '576', '577']\n"
     ]
    }
   ],
   "source": [
    "# Backward elimination to select top 100 features\n",
    "model = LogisticRegression(max_iter=1000)\n",
    "rfe = RFE(model, n_features_to_select=100)\n",
    "rfe.fit(df, y)\n",
    "selected_features = list(df.columns[rfe.support_])\n",
    "\n",
    "# Print the selected features\n",
    "print(selected_features)"
   ]
  },
  {
   "cell_type": "code",
   "execution_count": 12,
   "id": "d9cf3128",
   "metadata": {},
   "outputs": [],
   "source": [
    "df = df[selected_features]"
   ]
  },
  {
   "cell_type": "markdown",
   "id": "64cd281d",
   "metadata": {},
   "source": [
    "2.D. Check for multi-collinearity in the data and take necessary action"
   ]
  },
  {
   "cell_type": "code",
   "execution_count": 13,
   "id": "ac1bc3ad",
   "metadata": {},
   "outputs": [],
   "source": [
    "# High correlation\n",
    "corr_matrix = df.corr().abs()\n",
    "upper = corr_matrix.where(np.triu(np.ones(corr_matrix.shape), k=1).astype(np.bool_))\n",
    "to_drop = [column for column in upper.columns if any(upper[column] > 0.8)]\n",
    "df.drop(to_drop, axis=1, inplace=True)"
   ]
  },
  {
   "cell_type": "code",
   "execution_count": 14,
   "id": "dc75fc2b",
   "metadata": {},
   "outputs": [
    {
     "data": {
      "text/plain": [
       "Index(['7', '14', '17', '19', '25', '29', '32', '35', '40', '43', '45', '53',\n",
       "       '56', '59', '61', '62', '64', '66', '67', '75', '92', '99', '117',\n",
       "       '129', '130', '131', '132', '138', '142', '143', '145', '151', '168',\n",
       "       '176', '188', '210', '214', '216', '228', '239', '249', '250', '268',\n",
       "       '289', '301', '305', '310', '312', '337', '338', '349', '357', '359',\n",
       "       '386', '430', '439', '454', '455', '488', '511', '566', '574'],\n",
       "      dtype='object')"
      ]
     },
     "execution_count": 14,
     "metadata": {},
     "output_type": "execute_result"
    }
   ],
   "source": [
    "df.columns"
   ]
  },
  {
   "cell_type": "code",
   "execution_count": 15,
   "id": "a9cdb391",
   "metadata": {},
   "outputs": [
    {
     "data": {
      "text/plain": [
       "62"
      ]
     },
     "execution_count": 15,
     "metadata": {},
     "output_type": "execute_result"
    }
   ],
   "source": [
    "len(df.columns)"
   ]
  },
  {
   "cell_type": "markdown",
   "id": "6d714eab",
   "metadata": {},
   "source": [
    "2.E. Make all relevant modifications on the data using both functional/logical reasoning/assumptions"
   ]
  },
  {
   "cell_type": "markdown",
   "id": "472c0ede",
   "metadata": {},
   "source": [
    "So far as part of data cleaning and feature engineering, I have done the following,\n",
    "1. Removed features with >= 20% null values and rest imputed with mean\n",
    "2. Dropped all features that has same values for all rows\n",
    "3. Used backward feature elimination technique to reduce to top 100 features\n",
    "4. Checked for multi-collinearity and removed features having strong correlation (> 0.8). This operation further reduced the number of features from 100 to 62\n",
    "\n",
    "As a next step, we can do PCA to further reduce the number of features for better model interpretebility."
   ]
  },
  {
   "cell_type": "markdown",
   "id": "08f947fd",
   "metadata": {},
   "source": [
    "Question 3. Data analysis & visualisation"
   ]
  },
  {
   "cell_type": "markdown",
   "id": "d241b203",
   "metadata": {},
   "source": [
    "3.A. Perform a detailed univariate Analysis with appropriate detailed comments after each analysis"
   ]
  },
  {
   "cell_type": "code",
   "execution_count": 16,
   "id": "a4896eef",
   "metadata": {},
   "outputs": [
    {
     "name": "stdout",
     "output_type": "stream",
     "text": [
      "Mean: 0.12182150192554557\n",
      "Median: 0.1224\n",
      "Standard Deviation: 0.008932678427901398\n"
     ]
    }
   ],
   "source": [
    "variable_1 = Signal['7']\n",
    "\n",
    "mean = np.mean(variable_1)\n",
    "median = np.median(variable_1)\n",
    "std_dev = np.std(variable_1)\n",
    "print(\"Mean:\", mean)\n",
    "print(\"Median:\", median)\n",
    "print(\"Standard Deviation:\", std_dev)"
   ]
  },
  {
   "cell_type": "code",
   "execution_count": 17,
   "id": "f4d31278",
   "metadata": {},
   "outputs": [
    {
     "name": "stdout",
     "output_type": "stream",
     "text": [
      "Mean: 6.641564713457823\n",
      "Median: 6.27\n",
      "Standard Deviation: 3.535211491851136\n"
     ]
    }
   ],
   "source": [
    "variable_2 = Signal['142']\n",
    "\n",
    "mean = np.mean(variable_2)\n",
    "median = np.median(variable_2)\n",
    "std_dev = np.std(variable_2)\n",
    "print(\"Mean:\", mean)\n",
    "print(\"Median:\", median)\n",
    "print(\"Standard Deviation:\", std_dev)"
   ]
  },
  {
   "cell_type": "code",
   "execution_count": 18,
   "id": "08fc445d",
   "metadata": {},
   "outputs": [
    {
     "name": "stdout",
     "output_type": "stream",
     "text": [
      "Mean: 275.97945674121405\n",
      "Median: 0.0\n",
      "Standard Deviation: 329.3489599748305\n"
     ]
    }
   ],
   "source": [
    "variable_3 = Signal['511']\n",
    "\n",
    "mean = np.mean(variable_3)\n",
    "median = np.median(variable_3)\n",
    "std_dev = np.std(variable_3)\n",
    "print(\"Mean:\", mean)\n",
    "print(\"Median:\", median)\n",
    "print(\"Standard Deviation:\", std_dev)"
   ]
  },
  {
   "cell_type": "code",
   "execution_count": 19,
   "id": "4fda6c50",
   "metadata": {},
   "outputs": [
    {
     "data": {
      "image/png": "[encoded data removed]",
      "text/plain": [
       "<Figure size 640x480 with 1 Axes>"
      ]
     },
     "metadata": {},
     "output_type": "display_data"
    }
   ],
   "source": [
    "plt.boxplot(Signal[['7', '142', '511']])\n",
    "plt.show()"
   ]
  },
  {
   "cell_type": "markdown",
   "id": "bb302024",
   "metadata": {},
   "source": [
    "Observation 1: Feature 511 has the highest variation followed by feature 142 and then feature 7."
   ]
  },
  {
   "cell_type": "code",
   "execution_count": 20,
   "id": "e33b560f",
   "metadata": {},
   "outputs": [],
   "source": [
    "q1 = np.percentile(variable_1, 25)\n",
    "q3 = np.percentile(variable_1, 75)\n",
    "iqr = q3 - q1\n",
    "lower_bound = q1 - 1.5 * iqr\n",
    "upper_bound = q3 + 1.5 * iqr\n",
    "outliers_1 = variable_1[(variable_1 < lower_bound) | (variable_1 > upper_bound)]\n",
    "\n",
    "q1 = np.percentile(variable_2, 25)\n",
    "q3 = np.percentile(variable_2, 75)\n",
    "iqr = q3 - q1\n",
    "lower_bound = q1 - 1.5 * iqr\n",
    "upper_bound = q3 + 1.5 * iqr\n",
    "outliers_2 = variable_2[(variable_2 < lower_bound) | (variable_2 > upper_bound)]\n",
    "\n",
    "q1 = np.percentile(variable_3, 25)\n",
    "q3 = np.percentile(variable_3, 75)\n",
    "iqr = q3 - q1\n",
    "lower_bound = q1 - 1.5 * iqr\n",
    "upper_bound = q3 + 1.5 * iqr\n",
    "outliers_3 = variable_3[(variable_3 < lower_bound) | (variable_3 > upper_bound)]"
   ]
  },
  {
   "cell_type": "code",
   "execution_count": 21,
   "id": "c10b5021",
   "metadata": {},
   "outputs": [
    {
     "name": "stdout",
     "output_type": "stream",
     "text": [
      "Number of outliers for variable 1: 12\n",
      "Number of outliers for variable 2: 61\n",
      "Number of outliers for variable 3: 0\n"
     ]
    }
   ],
   "source": [
    "print(\"Number of outliers for variable 1:\", len(outliers_1))\n",
    "print(\"Number of outliers for variable 2:\", len(outliers_2))\n",
    "print(\"Number of outliers for variable 3:\", len(outliers_3))"
   ]
  },
  {
   "cell_type": "markdown",
   "id": "9115fbb1",
   "metadata": {},
   "source": [
    "Observation 2: Feature 142 has the highest number of outliers (61) followed by feature 7 (12) and feature 511 (0)."
   ]
  },
  {
   "cell_type": "code",
   "execution_count": 22,
   "id": "8fbda5ed",
   "metadata": {},
   "outputs": [
    {
     "name": "stdout",
     "output_type": "stream",
     "text": [
      "The variable 1 is not normally distributed.\n",
      "The variable 2 is not normally distributed.\n",
      "The variable 3 is not normally distributed.\n"
     ]
    }
   ],
   "source": [
    "from scipy.stats import normaltest\n",
    "stat, p = normaltest(variable_1)\n",
    "if p < 0.05:\n",
    "    print(\"The variable 1 is not normally distributed.\")\n",
    "else:\n",
    "    print(\"The variable 1 is normally distributed.\")\n",
    "    \n",
    "stat, p = normaltest(variable_2)\n",
    "if p < 0.05:\n",
    "    print(\"The variable 2 is not normally distributed.\")\n",
    "else:\n",
    "    print(\"The variable 2 is normally distributed.\")\n",
    "    \n",
    "stat, p = normaltest(variable_3)\n",
    "if p < 0.05:\n",
    "    print(\"The variable 3 is not normally distributed.\")\n",
    "else:\n",
    "    print(\"The variable 3 is normally distributed.\")"
   ]
  },
  {
   "cell_type": "markdown",
   "id": "82d902b7",
   "metadata": {},
   "source": [
    "Observation 3: All 3 features are not normally distributed."
   ]
  },
  {
   "cell_type": "markdown",
   "id": "92f6cb7c",
   "metadata": {},
   "source": [
    "3.B. Perform bivariate and multivariate analysis with appropriate detailed comments after each analysis"
   ]
  },
  {
   "cell_type": "code",
   "execution_count": 24,
   "id": "ab1c3d1a",
   "metadata": {},
   "outputs": [
    {
     "data": {
      "image/png": "[encoded data removed]",
      "text/plain": [
       "<Figure size 640x480 with 1 Axes>"
      ]
     },
     "metadata": {},
     "output_type": "display_data"
    }
   ],
   "source": [
    "# Create scatter plot for the selected 132 and 338 features\n",
    "plt.scatter(df['132'], df['338'])\n",
    "\n",
    "plt.xlabel('Feature 132')\n",
    "plt.ylabel('Feature 338')\n",
    "plt.show()"
   ]
  },
  {
   "cell_type": "code",
   "execution_count": 25,
   "id": "2ffbe9ea",
   "metadata": {},
   "outputs": [
    {
     "name": "stdout",
     "output_type": "stream",
     "text": [
      "-0.03926309418088816\n"
     ]
    }
   ],
   "source": [
    "# Calculate the correlation coefficient\n",
    "corr = df['132'].corr(df['338'])\n",
    "print(corr)"
   ]
  },
  {
   "cell_type": "markdown",
   "id": "290e257e",
   "metadata": {},
   "source": [
    "Observation 1: The two features 132 and 338 have almost no correlation as evident from the graph and correlation value."
   ]
  },
  {
   "cell_type": "code",
   "execution_count": 46,
   "id": "a938bf0b",
   "metadata": {},
   "outputs": [
    {
     "data": {
      "image/png": "[encoded data removed]",
      "text/plain": [
       "<Figure size 640x480 with 1 Axes>"
      ]
     },
     "metadata": {},
     "output_type": "display_data"
    }
   ],
   "source": [
    "df[\"Pass/Fail\"] = Signal[\"Pass/Fail\"]\n",
    "\n",
    "# Create box plot\n",
    "sns.boxplot(x='Pass/Fail', y='132', data=df)\n",
    "plt.show()"
   ]
  },
  {
   "cell_type": "code",
   "execution_count": 47,
   "id": "b87c4146",
   "metadata": {},
   "outputs": [
    {
     "data": {
      "image/png": "[encoded data removed]",
      "text/plain": [
       "<Figure size 640x480 with 1 Axes>"
      ]
     },
     "metadata": {},
     "output_type": "display_data"
    }
   ],
   "source": [
    "sns.boxplot(x='Pass/Fail', y='338', data=df)\n",
    "plt.show()"
   ]
  },
  {
   "cell_type": "markdown",
   "id": "17ebcb72",
   "metadata": {},
   "source": [
    "Observation 2: The distribution of data points for feature 132 is more dispersed compared to the feature 338."
   ]
  },
  {
   "cell_type": "code",
   "execution_count": 26,
   "id": "1268d141",
   "metadata": {},
   "outputs": [
    {
     "data": {
      "image/png": "[encoded data removed]",
      "text/plain": [
       "<Figure size 640x480 with 2 Axes>"
      ]
     },
     "metadata": {},
     "output_type": "display_data"
    }
   ],
   "source": [
    "# Create heatmap\n",
    "sns.heatmap(df[[\"132\", \"168\", \"214\", \"250\", \"305\", \"338\"]].corr(), annot=True)\n",
    "plt.show()"
   ]
  },
  {
   "cell_type": "code",
   "execution_count": 28,
   "id": "0f1279fc",
   "metadata": {},
   "outputs": [
    {
     "data": {
      "image/png": "[encoded data removed]",
      "text/plain": [
       "<Figure size 1000x1000 with 36 Axes>"
      ]
     },
     "metadata": {},
     "output_type": "display_data"
    }
   ],
   "source": [
    "# Create scatter matrix\n",
    "from pandas.plotting import scatter_matrix\n",
    "\n",
    "scatter_matrix(df[[\"132\", \"168\", \"214\", \"250\", \"305\", \"338\"]], figsize=(10, 10))\n",
    "plt.show()"
   ]
  },
  {
   "cell_type": "markdown",
   "id": "1f9f8361",
   "metadata": {},
   "source": [
    "Observation 3: As observed from the heatmap and scatter matrix of the selected 6 features, the correlation values between feature are very less with the highest value being 0.14 in magnitude."
   ]
  },
  {
   "cell_type": "code",
   "execution_count": 39,
   "id": "e6998430",
   "metadata": {},
   "outputs": [
    {
     "data": {
      "text/plain": [
       "0    548\n",
       "2    546\n",
       "1    473\n",
       "Name: Cluster, dtype: int64"
      ]
     },
     "execution_count": 39,
     "metadata": {},
     "output_type": "execute_result"
    }
   ],
   "source": [
    "# Perform K-means clustering\n",
    "from sklearn.cluster import KMeans\n",
    "kmeans = KMeans(n_clusters=3, n_init=5)\n",
    "kmeans.fit(df[[\"132\", \"168\", \"214\", \"250\", \"305\", \"338\"]])\n",
    "df['Cluster'] = kmeans.labels_\n",
    "\n",
    "# Show the cluster distribution\n",
    "df['Cluster'].value_counts()"
   ]
  },
  {
   "cell_type": "markdown",
   "id": "84b2f491",
   "metadata": {},
   "source": [
    "Observation 4: All the data points are equally falling within the 3 clusters. So this confirms that there is uniformity in the dataset."
   ]
  },
  {
   "cell_type": "markdown",
   "id": "63179118",
   "metadata": {},
   "source": [
    "Question 4. Data pre-processing"
   ]
  },
  {
   "cell_type": "markdown",
   "id": "fab5a96d",
   "metadata": {},
   "source": [
    "4.A. Segregate predictors vs target attributes"
   ]
  },
  {
   "cell_type": "code",
   "execution_count": 49,
   "id": "074e4d0b",
   "metadata": {},
   "outputs": [],
   "source": [
    "df.drop(\"Cluster\", axis=1, inplace=True)"
   ]
  },
  {
   "cell_type": "code",
   "execution_count": 51,
   "id": "2669a6a0",
   "metadata": {},
   "outputs": [],
   "source": [
    "X = df.drop('Pass/Fail', axis=1) \n",
    "y = df['Pass/Fail']"
   ]
  },
  {
   "cell_type": "markdown",
   "id": "598fa3ea",
   "metadata": {},
   "source": [
    "4.B. Check for target balancing and fix it if found imbalanced"
   ]
  },
  {
   "cell_type": "code",
   "execution_count": 52,
   "id": "cc7a3f43",
   "metadata": {},
   "outputs": [
    {
     "data": {
      "text/plain": [
       "-1    1463\n",
       " 1     104\n",
       "Name: Pass/Fail, dtype: int64"
      ]
     },
     "execution_count": 52,
     "metadata": {},
     "output_type": "execute_result"
    }
   ],
   "source": [
    "y.value_counts()"
   ]
  },
  {
   "cell_type": "code",
   "execution_count": 54,
   "id": "d4cf2956",
   "metadata": {},
   "outputs": [
    {
     "name": "stdout",
     "output_type": "stream",
     "text": [
      "-1    1463\n",
      " 1    1463\n",
      "Name: Pass/Fail, dtype: int64\n"
     ]
    }
   ],
   "source": [
    "# Upsample minority class\n",
    "from sklearn.utils import resample\n",
    "\n",
    "majority_class = y.value_counts().index[0]\n",
    "minority_class = y.value_counts().index[1]\n",
    "minority_class_count = y.value_counts()[minority_class]\n",
    "\n",
    "df_minority = df[df['Pass/Fail'] == minority_class]\n",
    "df_minority_upsampled = resample(df_minority, \n",
    "                                 replace=True,     \n",
    "                                 n_samples=y.value_counts()[majority_class],  \n",
    "                                 random_state=42)\n",
    "\n",
    "df_upsampled = pd.concat([df[df['Pass/Fail'] == majority_class], df_minority_upsampled])\n",
    " \n",
    "print(df_upsampled['Pass/Fail'].value_counts())"
   ]
  },
  {
   "cell_type": "markdown",
   "id": "aa9e1caf",
   "metadata": {},
   "source": [
    "4.C. Perform train-test split and standardise the data or vice versa if required"
   ]
  },
  {
   "cell_type": "code",
   "execution_count": 59,
   "id": "b97d00f9",
   "metadata": {},
   "outputs": [],
   "source": [
    "X_upsampled = df_upsampled.drop('Pass/Fail', axis=1) \n",
    "y_upsampled = df_upsampled['Pass/Fail']"
   ]
  },
  {
   "cell_type": "code",
   "execution_count": 60,
   "id": "5d8962d9",
   "metadata": {},
   "outputs": [],
   "source": [
    "from sklearn.model_selection import train_test_split\n",
    "from sklearn.preprocessing import StandardScaler\n",
    "\n",
    "# perform train-test split\n",
    "X_train, X_test, y_train, y_test = train_test_split(X_upsampled, y_upsampled, test_size=0.2, random_state=42)\n",
    "\n",
    "# standardize the data\n",
    "scaler = StandardScaler()\n",
    "X_train = scaler.fit_transform(X_train)\n",
    "X_test = scaler.transform(X_test)"
   ]
  },
  {
   "cell_type": "markdown",
   "id": "a610ebec",
   "metadata": {},
   "source": [
    "4.D. Check if the train and test data have similar statistical characteristics when compared with original data"
   ]
  },
  {
   "cell_type": "code",
   "execution_count": 64,
   "id": "c89d7997",
   "metadata": {},
   "outputs": [
    {
     "data": {
      "text/html": [
       "<div>\n",
       "<style scoped>\n",
       "    .dataframe tbody tr th:only-of-type {\n",
       "        vertical-align: middle;\n",
       "    }\n",
       "\n",
       "    .dataframe tbody tr th {\n",
       "        vertical-align: top;\n",
       "    }\n",
       "\n",
       "    .dataframe thead th {\n",
       "        text-align: right;\n",
       "    }\n",
       "</style>\n",
       "<table border=\"1\" class=\"dataframe\">\n",
       "  <thead>\n",
       "    <tr style=\"text-align: right;\">\n",
       "      <th></th>\n",
       "      <th>7</th>\n",
       "      <th>14</th>\n",
       "      <th>17</th>\n",
       "      <th>19</th>\n",
       "      <th>25</th>\n",
       "      <th>29</th>\n",
       "      <th>32</th>\n",
       "      <th>35</th>\n",
       "      <th>40</th>\n",
       "      <th>43</th>\n",
       "      <th>...</th>\n",
       "      <th>386</th>\n",
       "      <th>430</th>\n",
       "      <th>439</th>\n",
       "      <th>454</th>\n",
       "      <th>455</th>\n",
       "      <th>488</th>\n",
       "      <th>511</th>\n",
       "      <th>566</th>\n",
       "      <th>574</th>\n",
       "      <th>Pass/Fail</th>\n",
       "    </tr>\n",
       "  </thead>\n",
       "  <tbody>\n",
       "    <tr>\n",
       "      <th>count</th>\n",
       "      <td>2926.000000</td>\n",
       "      <td>2926.000000</td>\n",
       "      <td>2926.000000</td>\n",
       "      <td>2926.000000</td>\n",
       "      <td>2926.000000</td>\n",
       "      <td>2926.000000</td>\n",
       "      <td>2926.000000</td>\n",
       "      <td>2926.000000</td>\n",
       "      <td>2926.000000</td>\n",
       "      <td>2926.000000</td>\n",
       "      <td>...</td>\n",
       "      <td>2926.000000</td>\n",
       "      <td>2.926000e+03</td>\n",
       "      <td>2926.000000</td>\n",
       "      <td>2926.000000</td>\n",
       "      <td>2926.000000</td>\n",
       "      <td>2926.000000</td>\n",
       "      <td>2926.000000</td>\n",
       "      <td>2926.000000</td>\n",
       "      <td>2926.000000</td>\n",
       "      <td>2926.000000</td>\n",
       "    </tr>\n",
       "    <tr>\n",
       "      <th>mean</th>\n",
       "      <td>0.026919</td>\n",
       "      <td>-0.118503</td>\n",
       "      <td>-0.008167</td>\n",
       "      <td>0.047862</td>\n",
       "      <td>-0.062247</td>\n",
       "      <td>0.017889</td>\n",
       "      <td>0.075048</td>\n",
       "      <td>-0.030634</td>\n",
       "      <td>-0.108790</td>\n",
       "      <td>-0.038913</td>\n",
       "      <td>...</td>\n",
       "      <td>0.018747</td>\n",
       "      <td>2.236700e-01</td>\n",
       "      <td>-0.013405</td>\n",
       "      <td>-0.051970</td>\n",
       "      <td>0.100101</td>\n",
       "      <td>-0.045743</td>\n",
       "      <td>0.118391</td>\n",
       "      <td>-0.010287</td>\n",
       "      <td>-0.062026</td>\n",
       "      <td>0.000000</td>\n",
       "    </tr>\n",
       "    <tr>\n",
       "      <th>std</th>\n",
       "      <td>0.747783</td>\n",
       "      <td>0.997912</td>\n",
       "      <td>0.833774</td>\n",
       "      <td>0.756040</td>\n",
       "      <td>1.241499</td>\n",
       "      <td>0.966650</td>\n",
       "      <td>1.183063</td>\n",
       "      <td>0.852950</td>\n",
       "      <td>1.070231</td>\n",
       "      <td>0.963342</td>\n",
       "      <td>...</td>\n",
       "      <td>0.870025</td>\n",
       "      <td>1.643135e+00</td>\n",
       "      <td>0.892675</td>\n",
       "      <td>0.890230</td>\n",
       "      <td>0.960085</td>\n",
       "      <td>1.032478</td>\n",
       "      <td>1.039866</td>\n",
       "      <td>1.004284</td>\n",
       "      <td>0.832333</td>\n",
       "      <td>1.000171</td>\n",
       "    </tr>\n",
       "    <tr>\n",
       "      <th>min</th>\n",
       "      <td>-13.637735</td>\n",
       "      <td>-2.418909</td>\n",
       "      <td>-32.542848</td>\n",
       "      <td>-11.987787</td>\n",
       "      <td>-6.784885</td>\n",
       "      <td>-4.162346</td>\n",
       "      <td>-1.063850</td>\n",
       "      <td>-0.341372</td>\n",
       "      <td>-2.784679</td>\n",
       "      <td>-2.051832</td>\n",
       "      <td>...</td>\n",
       "      <td>-0.483156</td>\n",
       "      <td>-5.113482e-01</td>\n",
       "      <td>-1.474288</td>\n",
       "      <td>-1.816505</td>\n",
       "      <td>-3.137042</td>\n",
       "      <td>-1.410324</td>\n",
       "      <td>-0.837955</td>\n",
       "      <td>-2.343664</td>\n",
       "      <td>-0.301834</td>\n",
       "      <td>-1.000000</td>\n",
       "    </tr>\n",
       "    <tr>\n",
       "      <th>25%</th>\n",
       "      <td>-0.080771</td>\n",
       "      <td>-0.859604</td>\n",
       "      <td>-0.335679</td>\n",
       "      <td>-0.089475</td>\n",
       "      <td>0.234770</td>\n",
       "      <td>-0.706332</td>\n",
       "      <td>-0.359581</td>\n",
       "      <td>-0.209693</td>\n",
       "      <td>-0.098655</td>\n",
       "      <td>-0.751626</td>\n",
       "      <td>...</td>\n",
       "      <td>-0.242572</td>\n",
       "      <td>-2.971919e-01</td>\n",
       "      <td>-0.557109</td>\n",
       "      <td>-0.648097</td>\n",
       "      <td>-0.698792</td>\n",
       "      <td>-1.001570</td>\n",
       "      <td>-0.837955</td>\n",
       "      <td>-0.555006</td>\n",
       "      <td>-0.245882</td>\n",
       "      <td>-1.000000</td>\n",
       "    </tr>\n",
       "    <tr>\n",
       "      <th>50%</th>\n",
       "      <td>0.053567</td>\n",
       "      <td>-0.066620</td>\n",
       "      <td>0.046159</td>\n",
       "      <td>0.077192</td>\n",
       "      <td>0.452883</td>\n",
       "      <td>0.028417</td>\n",
       "      <td>-0.076913</td>\n",
       "      <td>-0.153234</td>\n",
       "      <td>0.418726</td>\n",
       "      <td>-0.276822</td>\n",
       "      <td>...</td>\n",
       "      <td>-0.089180</td>\n",
       "      <td>-1.716907e-01</td>\n",
       "      <td>-0.109458</td>\n",
       "      <td>-0.215273</td>\n",
       "      <td>0.353781</td>\n",
       "      <td>-0.057341</td>\n",
       "      <td>-0.096265</td>\n",
       "      <td>0.000000</td>\n",
       "      <td>-0.229276</td>\n",
       "      <td>0.000000</td>\n",
       "    </tr>\n",
       "    <tr>\n",
       "      <th>75%</th>\n",
       "      <td>0.221490</td>\n",
       "      <td>0.556030</td>\n",
       "      <td>0.486102</td>\n",
       "      <td>0.305094</td>\n",
       "      <td>0.570958</td>\n",
       "      <td>0.681363</td>\n",
       "      <td>0.197521</td>\n",
       "      <td>-0.101895</td>\n",
       "      <td>0.500837</td>\n",
       "      <td>0.788784</td>\n",
       "      <td>...</td>\n",
       "      <td>0.091661</td>\n",
       "      <td>9.861650e-17</td>\n",
       "      <td>0.343649</td>\n",
       "      <td>0.479382</td>\n",
       "      <td>0.806769</td>\n",
       "      <td>0.635492</td>\n",
       "      <td>1.125238</td>\n",
       "      <td>0.335912</td>\n",
       "      <td>-0.209817</td>\n",
       "      <td>1.000000</td>\n",
       "    </tr>\n",
       "    <tr>\n",
       "      <th>max</th>\n",
       "      <td>0.758843</td>\n",
       "      <td>3.774092</td>\n",
       "      <td>1.108663</td>\n",
       "      <td>2.342397</td>\n",
       "      <td>1.008594</td>\n",
       "      <td>2.804053</td>\n",
       "      <td>10.006802</td>\n",
       "      <td>11.545706</td>\n",
       "      <td>0.763088</td>\n",
       "      <td>3.492112</td>\n",
       "      <td>...</td>\n",
       "      <td>19.280213</td>\n",
       "      <td>1.059188e+01</td>\n",
       "      <td>15.313692</td>\n",
       "      <td>11.180455</td>\n",
       "      <td>6.981824</td>\n",
       "      <td>2.579349</td>\n",
       "      <td>2.198339</td>\n",
       "      <td>12.155232</td>\n",
       "      <td>5.977286</td>\n",
       "      <td>1.000000</td>\n",
       "    </tr>\n",
       "  </tbody>\n",
       "</table>\n",
       "<p>8 rows × 63 columns</p>\n",
       "</div>"
      ],
      "text/plain": [
       "                 7           14           17           19           25  \\\n",
       "count  2926.000000  2926.000000  2926.000000  2926.000000  2926.000000   \n",
       "mean      0.026919    -0.118503    -0.008167     0.047862    -0.062247   \n",
       "std       0.747783     0.997912     0.833774     0.756040     1.241499   \n",
       "min     -13.637735    -2.418909   -32.542848   -11.987787    -6.784885   \n",
       "25%      -0.080771    -0.859604    -0.335679    -0.089475     0.234770   \n",
       "50%       0.053567    -0.066620     0.046159     0.077192     0.452883   \n",
       "75%       0.221490     0.556030     0.486102     0.305094     0.570958   \n",
       "max       0.758843     3.774092     1.108663     2.342397     1.008594   \n",
       "\n",
       "                29           32           35           40           43  ...  \\\n",
       "count  2926.000000  2926.000000  2926.000000  2926.000000  2926.000000  ...   \n",
       "mean      0.017889     0.075048    -0.030634    -0.108790    -0.038913  ...   \n",
       "std       0.966650     1.183063     0.852950     1.070231     0.963342  ...   \n",
       "min      -4.162346    -1.063850    -0.341372    -2.784679    -2.051832  ...   \n",
       "25%      -0.706332    -0.359581    -0.209693    -0.098655    -0.751626  ...   \n",
       "50%       0.028417    -0.076913    -0.153234     0.418726    -0.276822  ...   \n",
       "75%       0.681363     0.197521    -0.101895     0.500837     0.788784  ...   \n",
       "max       2.804053    10.006802    11.545706     0.763088     3.492112  ...   \n",
       "\n",
       "               386           430          439          454          455  \\\n",
       "count  2926.000000  2.926000e+03  2926.000000  2926.000000  2926.000000   \n",
       "mean      0.018747  2.236700e-01    -0.013405    -0.051970     0.100101   \n",
       "std       0.870025  1.643135e+00     0.892675     0.890230     0.960085   \n",
       "min      -0.483156 -5.113482e-01    -1.474288    -1.816505    -3.137042   \n",
       "25%      -0.242572 -2.971919e-01    -0.557109    -0.648097    -0.698792   \n",
       "50%      -0.089180 -1.716907e-01    -0.109458    -0.215273     0.353781   \n",
       "75%       0.091661  9.861650e-17     0.343649     0.479382     0.806769   \n",
       "max      19.280213  1.059188e+01    15.313692    11.180455     6.981824   \n",
       "\n",
       "               488          511          566          574    Pass/Fail  \n",
       "count  2926.000000  2926.000000  2926.000000  2926.000000  2926.000000  \n",
       "mean     -0.045743     0.118391    -0.010287    -0.062026     0.000000  \n",
       "std       1.032478     1.039866     1.004284     0.832333     1.000171  \n",
       "min      -1.410324    -0.837955    -2.343664    -0.301834    -1.000000  \n",
       "25%      -1.001570    -0.837955    -0.555006    -0.245882    -1.000000  \n",
       "50%      -0.057341    -0.096265     0.000000    -0.229276     0.000000  \n",
       "75%       0.635492     1.125238     0.335912    -0.209817     1.000000  \n",
       "max       2.579349     2.198339    12.155232     5.977286     1.000000  \n",
       "\n",
       "[8 rows x 63 columns]"
      ]
     },
     "execution_count": 64,
     "metadata": {},
     "output_type": "execute_result"
    }
   ],
   "source": [
    "df_upsampled.describe()"
   ]
  },
  {
   "cell_type": "code",
   "execution_count": 69,
   "id": "1105ff18",
   "metadata": {},
   "outputs": [],
   "source": [
    "# exclude the 'target' column\n",
    "cols_to_include = [col for col in df_upsampled.columns if col != 'Pass/Fail']"
   ]
  },
  {
   "cell_type": "code",
   "execution_count": 71,
   "id": "a73884f5",
   "metadata": {},
   "outputs": [],
   "source": [
    "train_df = pd.DataFrame(X_train, columns=df_upsampled[cols_to_include].columns)\n",
    "test_df = pd.DataFrame(X_test, columns=df_upsampled[cols_to_include].columns)"
   ]
  },
  {
   "cell_type": "code",
   "execution_count": 72,
   "id": "d92ff5e0",
   "metadata": {},
   "outputs": [
    {
     "data": {
      "text/html": [
       "<div>\n",
       "<style scoped>\n",
       "    .dataframe tbody tr th:only-of-type {\n",
       "        vertical-align: middle;\n",
       "    }\n",
       "\n",
       "    .dataframe tbody tr th {\n",
       "        vertical-align: top;\n",
       "    }\n",
       "\n",
       "    .dataframe thead th {\n",
       "        text-align: right;\n",
       "    }\n",
       "</style>\n",
       "<table border=\"1\" class=\"dataframe\">\n",
       "  <thead>\n",
       "    <tr style=\"text-align: right;\">\n",
       "      <th></th>\n",
       "      <th>7</th>\n",
       "      <th>14</th>\n",
       "      <th>17</th>\n",
       "      <th>19</th>\n",
       "      <th>25</th>\n",
       "      <th>29</th>\n",
       "      <th>32</th>\n",
       "      <th>35</th>\n",
       "      <th>40</th>\n",
       "      <th>43</th>\n",
       "      <th>...</th>\n",
       "      <th>359</th>\n",
       "      <th>386</th>\n",
       "      <th>430</th>\n",
       "      <th>439</th>\n",
       "      <th>454</th>\n",
       "      <th>455</th>\n",
       "      <th>488</th>\n",
       "      <th>511</th>\n",
       "      <th>566</th>\n",
       "      <th>574</th>\n",
       "    </tr>\n",
       "  </thead>\n",
       "  <tbody>\n",
       "    <tr>\n",
       "      <th>count</th>\n",
       "      <td>2.340000e+03</td>\n",
       "      <td>2.340000e+03</td>\n",
       "      <td>2.340000e+03</td>\n",
       "      <td>2.340000e+03</td>\n",
       "      <td>2.340000e+03</td>\n",
       "      <td>2.340000e+03</td>\n",
       "      <td>2.340000e+03</td>\n",
       "      <td>2.340000e+03</td>\n",
       "      <td>2.340000e+03</td>\n",
       "      <td>2.340000e+03</td>\n",
       "      <td>...</td>\n",
       "      <td>2.340000e+03</td>\n",
       "      <td>2340.000000</td>\n",
       "      <td>2.340000e+03</td>\n",
       "      <td>2.340000e+03</td>\n",
       "      <td>2.340000e+03</td>\n",
       "      <td>2.340000e+03</td>\n",
       "      <td>2.340000e+03</td>\n",
       "      <td>2.340000e+03</td>\n",
       "      <td>2.340000e+03</td>\n",
       "      <td>2.340000e+03</td>\n",
       "    </tr>\n",
       "    <tr>\n",
       "      <th>mean</th>\n",
       "      <td>3.036507e-18</td>\n",
       "      <td>-2.429206e-17</td>\n",
       "      <td>-3.036507e-18</td>\n",
       "      <td>1.518254e-17</td>\n",
       "      <td>9.109522e-18</td>\n",
       "      <td>-1.670079e-17</td>\n",
       "      <td>9.109522e-18</td>\n",
       "      <td>-3.036507e-18</td>\n",
       "      <td>1.214603e-17</td>\n",
       "      <td>2.353293e-17</td>\n",
       "      <td>...</td>\n",
       "      <td>-5.313888e-18</td>\n",
       "      <td>0.000000</td>\n",
       "      <td>1.214603e-17</td>\n",
       "      <td>-4.554761e-18</td>\n",
       "      <td>4.175198e-18</td>\n",
       "      <td>6.073015e-18</td>\n",
       "      <td>-9.868649e-18</td>\n",
       "      <td>1.214603e-17</td>\n",
       "      <td>1.518254e-17</td>\n",
       "      <td>-3.112420e-17</td>\n",
       "    </tr>\n",
       "    <tr>\n",
       "      <th>std</th>\n",
       "      <td>1.000214e+00</td>\n",
       "      <td>1.000214e+00</td>\n",
       "      <td>1.000214e+00</td>\n",
       "      <td>1.000214e+00</td>\n",
       "      <td>1.000214e+00</td>\n",
       "      <td>1.000214e+00</td>\n",
       "      <td>1.000214e+00</td>\n",
       "      <td>1.000214e+00</td>\n",
       "      <td>1.000214e+00</td>\n",
       "      <td>1.000214e+00</td>\n",
       "      <td>...</td>\n",
       "      <td>1.000214e+00</td>\n",
       "      <td>1.000214</td>\n",
       "      <td>1.000214e+00</td>\n",
       "      <td>1.000214e+00</td>\n",
       "      <td>1.000214e+00</td>\n",
       "      <td>1.000214e+00</td>\n",
       "      <td>1.000214e+00</td>\n",
       "      <td>1.000214e+00</td>\n",
       "      <td>1.000214e+00</td>\n",
       "      <td>1.000214e+00</td>\n",
       "    </tr>\n",
       "    <tr>\n",
       "      <th>min</th>\n",
       "      <td>-2.043789e+01</td>\n",
       "      <td>-2.325525e+00</td>\n",
       "      <td>-3.697239e+01</td>\n",
       "      <td>-1.517403e+01</td>\n",
       "      <td>-5.380554e+00</td>\n",
       "      <td>-4.326480e+00</td>\n",
       "      <td>-9.461004e-01</td>\n",
       "      <td>-3.642807e-01</td>\n",
       "      <td>-2.469044e+00</td>\n",
       "      <td>-2.081099e+00</td>\n",
       "      <td>...</td>\n",
       "      <td>-1.507455e+00</td>\n",
       "      <td>-0.641676</td>\n",
       "      <td>-4.515715e-01</td>\n",
       "      <td>-1.646212e+00</td>\n",
       "      <td>-1.943565e+00</td>\n",
       "      <td>-3.304030e+00</td>\n",
       "      <td>-1.314767e+00</td>\n",
       "      <td>-9.133404e-01</td>\n",
       "      <td>-2.322004e+00</td>\n",
       "      <td>-2.888087e-01</td>\n",
       "    </tr>\n",
       "    <tr>\n",
       "      <th>25%</th>\n",
       "      <td>-1.723566e-01</td>\n",
       "      <td>-7.393900e-01</td>\n",
       "      <td>-3.753999e-01</td>\n",
       "      <td>-1.616717e-01</td>\n",
       "      <td>2.494085e-01</td>\n",
       "      <td>-7.553184e-01</td>\n",
       "      <td>-3.598392e-01</td>\n",
       "      <td>-2.095979e-01</td>\n",
       "      <td>1.756985e-02</td>\n",
       "      <td>-7.361936e-01</td>\n",
       "      <td>...</td>\n",
       "      <td>-7.372734e-01</td>\n",
       "      <td>-0.328676</td>\n",
       "      <td>-3.213353e-01</td>\n",
       "      <td>-6.138381e-01</td>\n",
       "      <td>-6.562384e-01</td>\n",
       "      <td>-8.129931e-01</td>\n",
       "      <td>-9.777096e-01</td>\n",
       "      <td>-9.133404e-01</td>\n",
       "      <td>-5.386325e-01</td>\n",
       "      <td>-2.209439e-01</td>\n",
       "    </tr>\n",
       "    <tr>\n",
       "      <th>50%</th>\n",
       "      <td>2.845788e-02</td>\n",
       "      <td>5.317190e-02</td>\n",
       "      <td>5.848199e-02</td>\n",
       "      <td>3.990268e-02</td>\n",
       "      <td>4.113213e-01</td>\n",
       "      <td>3.910921e-03</td>\n",
       "      <td>-1.290348e-01</td>\n",
       "      <td>-1.453867e-01</td>\n",
       "      <td>4.942136e-01</td>\n",
       "      <td>-2.409510e-01</td>\n",
       "      <td>...</td>\n",
       "      <td>-8.934256e-02</td>\n",
       "      <td>-0.125648</td>\n",
       "      <td>-2.486657e-01</td>\n",
       "      <td>-9.695696e-02</td>\n",
       "      <td>-1.807191e-01</td>\n",
       "      <td>2.693430e-01</td>\n",
       "      <td>-2.365169e-03</td>\n",
       "      <td>-2.498436e-01</td>\n",
       "      <td>1.473290e-02</td>\n",
       "      <td>-2.006560e-01</td>\n",
       "    </tr>\n",
       "    <tr>\n",
       "      <th>75%</th>\n",
       "      <td>2.794760e-01</td>\n",
       "      <td>6.759223e-01</td>\n",
       "      <td>5.701796e-01</td>\n",
       "      <td>3.361648e-01</td>\n",
       "      <td>5.042294e-01</td>\n",
       "      <td>6.786127e-01</td>\n",
       "      <td>9.488303e-02</td>\n",
       "      <td>-8.349103e-02</td>\n",
       "      <td>5.702283e-01</td>\n",
       "      <td>8.500891e-01</td>\n",
       "      <td>...</td>\n",
       "      <td>6.074887e-01</td>\n",
       "      <td>0.102757</td>\n",
       "      <td>-1.376997e-01</td>\n",
       "      <td>4.124505e-01</td>\n",
       "      <td>5.890338e-01</td>\n",
       "      <td>7.384116e-01</td>\n",
       "      <td>6.749935e-01</td>\n",
       "      <td>9.662696e-01</td>\n",
       "      <td>3.453478e-01</td>\n",
       "      <td>-1.771786e-01</td>\n",
       "    </tr>\n",
       "    <tr>\n",
       "      <th>max</th>\n",
       "      <td>9.153887e-01</td>\n",
       "      <td>3.924635e+00</td>\n",
       "      <td>1.265805e+00</td>\n",
       "      <td>2.906674e+00</td>\n",
       "      <td>8.560175e-01</td>\n",
       "      <td>2.562767e+00</td>\n",
       "      <td>8.190275e+00</td>\n",
       "      <td>1.345459e+01</td>\n",
       "      <td>8.153372e-01</td>\n",
       "      <td>3.662996e+00</td>\n",
       "      <td>...</td>\n",
       "      <td>8.382658e+00</td>\n",
       "      <td>24.669052</td>\n",
       "      <td>6.300699e+00</td>\n",
       "      <td>1.741027e+01</td>\n",
       "      <td>1.236518e+01</td>\n",
       "      <td>7.153059e+00</td>\n",
       "      <td>2.555239e+00</td>\n",
       "      <td>1.993684e+00</td>\n",
       "      <td>1.213404e+01</td>\n",
       "      <td>7.328749e+00</td>\n",
       "    </tr>\n",
       "  </tbody>\n",
       "</table>\n",
       "<p>8 rows × 62 columns</p>\n",
       "</div>"
      ],
      "text/plain": [
       "                  7            14            17            19            25  \\\n",
       "count  2.340000e+03  2.340000e+03  2.340000e+03  2.340000e+03  2.340000e+03   \n",
       "mean   3.036507e-18 -2.429206e-17 -3.036507e-18  1.518254e-17  9.109522e-18   \n",
       "std    1.000214e+00  1.000214e+00  1.000214e+00  1.000214e+00  1.000214e+00   \n",
       "min   -2.043789e+01 -2.325525e+00 -3.697239e+01 -1.517403e+01 -5.380554e+00   \n",
       "25%   -1.723566e-01 -7.393900e-01 -3.753999e-01 -1.616717e-01  2.494085e-01   \n",
       "50%    2.845788e-02  5.317190e-02  5.848199e-02  3.990268e-02  4.113213e-01   \n",
       "75%    2.794760e-01  6.759223e-01  5.701796e-01  3.361648e-01  5.042294e-01   \n",
       "max    9.153887e-01  3.924635e+00  1.265805e+00  2.906674e+00  8.560175e-01   \n",
       "\n",
       "                 29            32            35            40            43  \\\n",
       "count  2.340000e+03  2.340000e+03  2.340000e+03  2.340000e+03  2.340000e+03   \n",
       "mean  -1.670079e-17  9.109522e-18 -3.036507e-18  1.214603e-17  2.353293e-17   \n",
       "std    1.000214e+00  1.000214e+00  1.000214e+00  1.000214e+00  1.000214e+00   \n",
       "min   -4.326480e+00 -9.461004e-01 -3.642807e-01 -2.469044e+00 -2.081099e+00   \n",
       "25%   -7.553184e-01 -3.598392e-01 -2.095979e-01  1.756985e-02 -7.361936e-01   \n",
       "50%    3.910921e-03 -1.290348e-01 -1.453867e-01  4.942136e-01 -2.409510e-01   \n",
       "75%    6.786127e-01  9.488303e-02 -8.349103e-02  5.702283e-01  8.500891e-01   \n",
       "max    2.562767e+00  8.190275e+00  1.345459e+01  8.153372e-01  3.662996e+00   \n",
       "\n",
       "       ...           359          386           430           439  \\\n",
       "count  ...  2.340000e+03  2340.000000  2.340000e+03  2.340000e+03   \n",
       "mean   ... -5.313888e-18     0.000000  1.214603e-17 -4.554761e-18   \n",
       "std    ...  1.000214e+00     1.000214  1.000214e+00  1.000214e+00   \n",
       "min    ... -1.507455e+00    -0.641676 -4.515715e-01 -1.646212e+00   \n",
       "25%    ... -7.372734e-01    -0.328676 -3.213353e-01 -6.138381e-01   \n",
       "50%    ... -8.934256e-02    -0.125648 -2.486657e-01 -9.695696e-02   \n",
       "75%    ...  6.074887e-01     0.102757 -1.376997e-01  4.124505e-01   \n",
       "max    ...  8.382658e+00    24.669052  6.300699e+00  1.741027e+01   \n",
       "\n",
       "                454           455           488           511           566  \\\n",
       "count  2.340000e+03  2.340000e+03  2.340000e+03  2.340000e+03  2.340000e+03   \n",
       "mean   4.175198e-18  6.073015e-18 -9.868649e-18  1.214603e-17  1.518254e-17   \n",
       "std    1.000214e+00  1.000214e+00  1.000214e+00  1.000214e+00  1.000214e+00   \n",
       "min   -1.943565e+00 -3.304030e+00 -1.314767e+00 -9.133404e-01 -2.322004e+00   \n",
       "25%   -6.562384e-01 -8.129931e-01 -9.777096e-01 -9.133404e-01 -5.386325e-01   \n",
       "50%   -1.807191e-01  2.693430e-01 -2.365169e-03 -2.498436e-01  1.473290e-02   \n",
       "75%    5.890338e-01  7.384116e-01  6.749935e-01  9.662696e-01  3.453478e-01   \n",
       "max    1.236518e+01  7.153059e+00  2.555239e+00  1.993684e+00  1.213404e+01   \n",
       "\n",
       "                574  \n",
       "count  2.340000e+03  \n",
       "mean  -3.112420e-17  \n",
       "std    1.000214e+00  \n",
       "min   -2.888087e-01  \n",
       "25%   -2.209439e-01  \n",
       "50%   -2.006560e-01  \n",
       "75%   -1.771786e-01  \n",
       "max    7.328749e+00  \n",
       "\n",
       "[8 rows x 62 columns]"
      ]
     },
     "execution_count": 72,
     "metadata": {},
     "output_type": "execute_result"
    }
   ],
   "source": [
    "train_df.describe()"
   ]
  },
  {
   "cell_type": "code",
   "execution_count": 73,
   "id": "293f67c7",
   "metadata": {},
   "outputs": [
    {
     "data": {
      "text/html": [
       "<div>\n",
       "<style scoped>\n",
       "    .dataframe tbody tr th:only-of-type {\n",
       "        vertical-align: middle;\n",
       "    }\n",
       "\n",
       "    .dataframe tbody tr th {\n",
       "        vertical-align: top;\n",
       "    }\n",
       "\n",
       "    .dataframe thead th {\n",
       "        text-align: right;\n",
       "    }\n",
       "</style>\n",
       "<table border=\"1\" class=\"dataframe\">\n",
       "  <thead>\n",
       "    <tr style=\"text-align: right;\">\n",
       "      <th></th>\n",
       "      <th>7</th>\n",
       "      <th>14</th>\n",
       "      <th>17</th>\n",
       "      <th>19</th>\n",
       "      <th>25</th>\n",
       "      <th>29</th>\n",
       "      <th>32</th>\n",
       "      <th>35</th>\n",
       "      <th>40</th>\n",
       "      <th>43</th>\n",
       "      <th>...</th>\n",
       "      <th>359</th>\n",
       "      <th>386</th>\n",
       "      <th>430</th>\n",
       "      <th>439</th>\n",
       "      <th>454</th>\n",
       "      <th>455</th>\n",
       "      <th>488</th>\n",
       "      <th>511</th>\n",
       "      <th>566</th>\n",
       "      <th>574</th>\n",
       "    </tr>\n",
       "  </thead>\n",
       "  <tbody>\n",
       "    <tr>\n",
       "      <th>count</th>\n",
       "      <td>586.000000</td>\n",
       "      <td>586.000000</td>\n",
       "      <td>586.000000</td>\n",
       "      <td>586.000000</td>\n",
       "      <td>586.000000</td>\n",
       "      <td>586.000000</td>\n",
       "      <td>586.000000</td>\n",
       "      <td>586.000000</td>\n",
       "      <td>586.000000</td>\n",
       "      <td>586.000000</td>\n",
       "      <td>...</td>\n",
       "      <td>586.000000</td>\n",
       "      <td>586.000000</td>\n",
       "      <td>586.000000</td>\n",
       "      <td>586.000000</td>\n",
       "      <td>586.000000</td>\n",
       "      <td>586.000000</td>\n",
       "      <td>586.000000</td>\n",
       "      <td>586.000000</td>\n",
       "      <td>586.000000</td>\n",
       "      <td>586.000000</td>\n",
       "    </tr>\n",
       "    <tr>\n",
       "      <th>mean</th>\n",
       "      <td>-0.056808</td>\n",
       "      <td>-0.019414</td>\n",
       "      <td>-0.016221</td>\n",
       "      <td>0.057973</td>\n",
       "      <td>-0.004499</td>\n",
       "      <td>-0.034790</td>\n",
       "      <td>-0.030916</td>\n",
       "      <td>-0.015195</td>\n",
       "      <td>0.040881</td>\n",
       "      <td>0.022424</td>\n",
       "      <td>...</td>\n",
       "      <td>0.019077</td>\n",
       "      <td>0.078462</td>\n",
       "      <td>-0.022872</td>\n",
       "      <td>0.060290</td>\n",
       "      <td>-0.004663</td>\n",
       "      <td>0.021594</td>\n",
       "      <td>0.044361</td>\n",
       "      <td>0.011429</td>\n",
       "      <td>0.022353</td>\n",
       "      <td>0.010565</td>\n",
       "    </tr>\n",
       "    <tr>\n",
       "      <th>std</th>\n",
       "      <td>1.498333</td>\n",
       "      <td>1.034978</td>\n",
       "      <td>0.698414</td>\n",
       "      <td>0.739625</td>\n",
       "      <td>0.966973</td>\n",
       "      <td>0.993782</td>\n",
       "      <td>0.874982</td>\n",
       "      <td>0.956983</td>\n",
       "      <td>0.952292</td>\n",
       "      <td>0.990365</td>\n",
       "      <td>...</td>\n",
       "      <td>1.001796</td>\n",
       "      <td>1.577340</td>\n",
       "      <td>0.996028</td>\n",
       "      <td>1.063466</td>\n",
       "      <td>0.895980</td>\n",
       "      <td>0.986421</td>\n",
       "      <td>1.006744</td>\n",
       "      <td>0.977719</td>\n",
       "      <td>1.006361</td>\n",
       "      <td>1.047804</td>\n",
       "    </tr>\n",
       "    <tr>\n",
       "      <th>min</th>\n",
       "      <td>-20.437889</td>\n",
       "      <td>-2.325525</td>\n",
       "      <td>-5.949838</td>\n",
       "      <td>-15.174028</td>\n",
       "      <td>-4.364428</td>\n",
       "      <td>-4.214114</td>\n",
       "      <td>-0.936932</td>\n",
       "      <td>-0.359221</td>\n",
       "      <td>-2.434217</td>\n",
       "      <td>-1.820025</td>\n",
       "      <td>...</td>\n",
       "      <td>-1.544131</td>\n",
       "      <td>-0.590919</td>\n",
       "      <td>-0.429140</td>\n",
       "      <td>-1.467422</td>\n",
       "      <td>-1.747013</td>\n",
       "      <td>-3.358420</td>\n",
       "      <td>-1.314767</td>\n",
       "      <td>-0.913340</td>\n",
       "      <td>-2.322004</td>\n",
       "      <td>-0.265119</td>\n",
       "    </tr>\n",
       "    <tr>\n",
       "      <th>25%</th>\n",
       "      <td>-0.172357</td>\n",
       "      <td>-0.809707</td>\n",
       "      <td>-0.375400</td>\n",
       "      <td>-0.141630</td>\n",
       "      <td>0.048911</td>\n",
       "      <td>-0.755318</td>\n",
       "      <td>-0.383117</td>\n",
       "      <td>-0.213698</td>\n",
       "      <td>0.017570</td>\n",
       "      <td>-0.733047</td>\n",
       "      <td>...</td>\n",
       "      <td>-0.737273</td>\n",
       "      <td>-0.301182</td>\n",
       "      <td>-0.324005</td>\n",
       "      <td>-0.579500</td>\n",
       "      <td>-0.675690</td>\n",
       "      <td>-0.827587</td>\n",
       "      <td>-0.766267</td>\n",
       "      <td>-0.913340</td>\n",
       "      <td>-0.538633</td>\n",
       "      <td>-0.220342</td>\n",
       "    </tr>\n",
       "    <tr>\n",
       "      <th>50%</th>\n",
       "      <td>0.011723</td>\n",
       "      <td>0.034364</td>\n",
       "      <td>0.058482</td>\n",
       "      <td>0.056749</td>\n",
       "      <td>0.411321</td>\n",
       "      <td>-0.024181</td>\n",
       "      <td>-0.131602</td>\n",
       "      <td>-0.147691</td>\n",
       "      <td>0.496541</td>\n",
       "      <td>-0.254179</td>\n",
       "      <td>...</td>\n",
       "      <td>-0.058780</td>\n",
       "      <td>-0.108729</td>\n",
       "      <td>-0.234146</td>\n",
       "      <td>-0.071367</td>\n",
       "      <td>-0.170476</td>\n",
       "      <td>0.267571</td>\n",
       "      <td>0.017253</td>\n",
       "      <td>-0.187794</td>\n",
       "      <td>0.008797</td>\n",
       "      <td>-0.201542</td>\n",
       "    </tr>\n",
       "    <tr>\n",
       "      <th>75%</th>\n",
       "      <td>0.308761</td>\n",
       "      <td>0.705489</td>\n",
       "      <td>0.530093</td>\n",
       "      <td>0.332679</td>\n",
       "      <td>0.513250</td>\n",
       "      <td>0.650521</td>\n",
       "      <td>0.112314</td>\n",
       "      <td>-0.103460</td>\n",
       "      <td>0.572555</td>\n",
       "      <td>0.889857</td>\n",
       "      <td>...</td>\n",
       "      <td>0.607489</td>\n",
       "      <td>0.142940</td>\n",
       "      <td>-0.156235</td>\n",
       "      <td>0.429336</td>\n",
       "      <td>0.569681</td>\n",
       "      <td>0.758738</td>\n",
       "      <td>0.664075</td>\n",
       "      <td>0.966270</td>\n",
       "      <td>0.397903</td>\n",
       "      <td>-0.177179</td>\n",
       "    </tr>\n",
       "    <tr>\n",
       "      <th>max</th>\n",
       "      <td>1.082734</td>\n",
       "      <td>3.416700</td>\n",
       "      <td>1.180915</td>\n",
       "      <td>2.452406</td>\n",
       "      <td>0.856018</td>\n",
       "      <td>2.872026</td>\n",
       "      <td>7.173334</td>\n",
       "      <td>13.454592</td>\n",
       "      <td>0.787413</td>\n",
       "      <td>2.754907</td>\n",
       "      <td>...</td>\n",
       "      <td>8.382658</td>\n",
       "      <td>25.244296</td>\n",
       "      <td>6.300699</td>\n",
       "      <td>14.204770</td>\n",
       "      <td>2.801007</td>\n",
       "      <td>2.363896</td>\n",
       "      <td>2.518225</td>\n",
       "      <td>1.954924</td>\n",
       "      <td>5.589235</td>\n",
       "      <td>5.936445</td>\n",
       "    </tr>\n",
       "  </tbody>\n",
       "</table>\n",
       "<p>8 rows × 62 columns</p>\n",
       "</div>"
      ],
      "text/plain": [
       "                7          14          17          19          25          29  \\\n",
       "count  586.000000  586.000000  586.000000  586.000000  586.000000  586.000000   \n",
       "mean    -0.056808   -0.019414   -0.016221    0.057973   -0.004499   -0.034790   \n",
       "std      1.498333    1.034978    0.698414    0.739625    0.966973    0.993782   \n",
       "min    -20.437889   -2.325525   -5.949838  -15.174028   -4.364428   -4.214114   \n",
       "25%     -0.172357   -0.809707   -0.375400   -0.141630    0.048911   -0.755318   \n",
       "50%      0.011723    0.034364    0.058482    0.056749    0.411321   -0.024181   \n",
       "75%      0.308761    0.705489    0.530093    0.332679    0.513250    0.650521   \n",
       "max      1.082734    3.416700    1.180915    2.452406    0.856018    2.872026   \n",
       "\n",
       "               32          35          40          43  ...         359  \\\n",
       "count  586.000000  586.000000  586.000000  586.000000  ...  586.000000   \n",
       "mean    -0.030916   -0.015195    0.040881    0.022424  ...    0.019077   \n",
       "std      0.874982    0.956983    0.952292    0.990365  ...    1.001796   \n",
       "min     -0.936932   -0.359221   -2.434217   -1.820025  ...   -1.544131   \n",
       "25%     -0.383117   -0.213698    0.017570   -0.733047  ...   -0.737273   \n",
       "50%     -0.131602   -0.147691    0.496541   -0.254179  ...   -0.058780   \n",
       "75%      0.112314   -0.103460    0.572555    0.889857  ...    0.607489   \n",
       "max      7.173334   13.454592    0.787413    2.754907  ...    8.382658   \n",
       "\n",
       "              386         430         439         454         455         488  \\\n",
       "count  586.000000  586.000000  586.000000  586.000000  586.000000  586.000000   \n",
       "mean     0.078462   -0.022872    0.060290   -0.004663    0.021594    0.044361   \n",
       "std      1.577340    0.996028    1.063466    0.895980    0.986421    1.006744   \n",
       "min     -0.590919   -0.429140   -1.467422   -1.747013   -3.358420   -1.314767   \n",
       "25%     -0.301182   -0.324005   -0.579500   -0.675690   -0.827587   -0.766267   \n",
       "50%     -0.108729   -0.234146   -0.071367   -0.170476    0.267571    0.017253   \n",
       "75%      0.142940   -0.156235    0.429336    0.569681    0.758738    0.664075   \n",
       "max     25.244296    6.300699   14.204770    2.801007    2.363896    2.518225   \n",
       "\n",
       "              511         566         574  \n",
       "count  586.000000  586.000000  586.000000  \n",
       "mean     0.011429    0.022353    0.010565  \n",
       "std      0.977719    1.006361    1.047804  \n",
       "min     -0.913340   -2.322004   -0.265119  \n",
       "25%     -0.913340   -0.538633   -0.220342  \n",
       "50%     -0.187794    0.008797   -0.201542  \n",
       "75%      0.966270    0.397903   -0.177179  \n",
       "max      1.954924    5.589235    5.936445  \n",
       "\n",
       "[8 rows x 62 columns]"
      ]
     },
     "execution_count": 73,
     "metadata": {},
     "output_type": "execute_result"
    }
   ],
   "source": [
    "test_df.describe()"
   ]
  },
  {
   "cell_type": "markdown",
   "id": "7bc4ab03",
   "metadata": {},
   "source": [
    "Observation: Training data has all the values on a lower scale compared to the original and test data. This is because only the training data was standardized for model building and original and test data were not standardized."
   ]
  },
  {
   "cell_type": "markdown",
   "id": "610fd32a",
   "metadata": {},
   "source": [
    "Question 5. Model training, testing and tuning"
   ]
  },
  {
   "cell_type": "markdown",
   "id": "10cb85a8",
   "metadata": {},
   "source": [
    "5.A. Use any Supervised Learning technique to train a model"
   ]
  },
  {
   "cell_type": "code",
   "execution_count": 78,
   "id": "246b727a",
   "metadata": {},
   "outputs": [
    {
     "name": "stdout",
     "output_type": "stream",
     "text": [
      "Test accuracy: 94.88%\n"
     ]
    }
   ],
   "source": [
    "from sklearn.tree import DecisionTreeClassifier\n",
    "from sklearn.metrics import accuracy_score\n",
    "\n",
    "# model training\n",
    "clf = DecisionTreeClassifier()\n",
    "clf.fit(X_train, y_train.values.ravel())\n",
    "y_pred = clf.predict(X_test)\n",
    "\n",
    "# evaluate the accuracy on the test data\n",
    "test_acc = accuracy_score(y_test, y_pred)\n",
    "print(\"Test accuracy: {:.2f}%\".format(test_acc * 100))"
   ]
  },
  {
   "cell_type": "markdown",
   "id": "69893207",
   "metadata": {},
   "source": [
    "5.B. Use cross validation techniques"
   ]
  },
  {
   "cell_type": "code",
   "execution_count": 88,
   "id": "e00d95f6",
   "metadata": {},
   "outputs": [
    {
     "name": "stdout",
     "output_type": "stream",
     "text": [
      "[0.9465812  0.9465812  0.95299145 0.95940171 0.94871795]\n"
     ]
    }
   ],
   "source": [
    "from sklearn.model_selection import cross_val_score\n",
    "\n",
    "# perform k-fold cross-validation\n",
    "scores = cross_val_score(clf, X_train, y_train, cv=5)\n",
    "print(scores)"
   ]
  },
  {
   "cell_type": "code",
   "execution_count": 89,
   "id": "d3479488",
   "metadata": {},
   "outputs": [
    {
     "name": "stdout",
     "output_type": "stream",
     "text": [
      "[0.93589744 0.94871795 0.95299145 0.96153846 0.95726496]\n"
     ]
    }
   ],
   "source": [
    "from sklearn.model_selection import StratifiedKFold\n",
    "\n",
    "# perform k-fold stratified cross-validation\n",
    "skf = StratifiedKFold(n_splits=5)\n",
    "scores = cross_val_score(clf, X_train, y_train, cv=skf)\n",
    "print(scores)"
   ]
  },
  {
   "cell_type": "code",
   "execution_count": 90,
   "id": "9cc8ce35",
   "metadata": {},
   "outputs": [
    {
     "name": "stdout",
     "output_type": "stream",
     "text": [
      "[1. 1. 1. ... 1. 1. 1.]\n"
     ]
    }
   ],
   "source": [
    "from sklearn.model_selection import LeaveOneOut\n",
    "\n",
    "# perform leave-one-out cross-validation\n",
    "loo = LeaveOneOut()\n",
    "scores = cross_val_score(clf, X_train, y_train, cv=loo)\n",
    "print(scores)"
   ]
  },
  {
   "cell_type": "code",
   "execution_count": 92,
   "id": "95d928fa",
   "metadata": {},
   "outputs": [
    {
     "name": "stdout",
     "output_type": "stream",
     "text": [
      "[0.96153846 0.95940171 0.92521368 0.95299145 0.94871795]\n"
     ]
    }
   ],
   "source": [
    "from sklearn.model_selection import ShuffleSplit\n",
    "\n",
    "# perform shuffle-split cross-validations with 20% of the data in the test set\n",
    "ss = ShuffleSplit(n_splits=5, test_size=0.2)\n",
    "scores = cross_val_score(clf, X_train, y_train, cv=ss)\n",
    "print(scores)"
   ]
  },
  {
   "cell_type": "markdown",
   "id": "2a255e12",
   "metadata": {},
   "source": [
    "5.C. Apply hyper-parameter tuning techniques to get the best accuracy"
   ]
  },
  {
   "cell_type": "code",
   "execution_count": 93,
   "id": "ee167a73",
   "metadata": {},
   "outputs": [
    {
     "name": "stdout",
     "output_type": "stream",
     "text": [
      "Best hyper-parameters:  {'criterion': 'gini', 'max_depth': 10, 'min_samples_leaf': 1, 'min_samples_split': 2}\n",
      "Best score:  0.9320512820512821\n"
     ]
    }
   ],
   "source": [
    "from sklearn.model_selection import GridSearchCV\n",
    "\n",
    "# define the hyper-parameter grid\n",
    "param_grid = {\n",
    "    'max_depth': [3, 5, 7, 10],\n",
    "    'min_samples_split': [2, 5, 10],\n",
    "    'min_samples_leaf': [1, 2, 4],\n",
    "    'criterion': ['gini', 'entropy']\n",
    "}\n",
    "\n",
    "# perform grid search with 5-fold cross-validation\n",
    "grid = GridSearchCV(clf, param_grid, cv=5)\n",
    "grid.fit(X_train, y_train)\n",
    "\n",
    "# print the best hyper-parameters and their corresponding score\n",
    "print(\"Best hyper-parameters: \", grid.best_params_)\n",
    "print(\"Best score: \", grid.best_score_)"
   ]
  },
  {
   "cell_type": "code",
   "execution_count": 94,
   "id": "fb742095",
   "metadata": {},
   "outputs": [
    {
     "name": "stdout",
     "output_type": "stream",
     "text": [
      "Best hyper-parameters:  {'criterion': 'gini', 'max_depth': None, 'min_samples_leaf': 2, 'min_samples_split': 4}\n",
      "Best score:  0.9508547008547008\n"
     ]
    }
   ],
   "source": [
    "from sklearn.model_selection import RandomizedSearchCV\n",
    "from scipy.stats import randint\n",
    "\n",
    "# define the hyper-parameter distribution\n",
    "param_dist = {\n",
    "    'max_depth': [3, 5, 7, 10, None],\n",
    "    'min_samples_split': randint(2, 11),\n",
    "    'min_samples_leaf': randint(1, 5),\n",
    "    'criterion': ['gini', 'entropy']\n",
    "}\n",
    "\n",
    "# perform random search with 5-fold cross-validation\n",
    "random = RandomizedSearchCV(clf, param_distributions=param_dist, cv=5, n_iter=10)\n",
    "random.fit(X_train, y_train)\n",
    "\n",
    "# print the best hyper-parameters and their corresponding score\n",
    "print(\"Best hyper-parameters: \", random.best_params_)\n",
    "print(\"Best score: \", random.best_score_)"
   ]
  },
  {
   "cell_type": "markdown",
   "id": "9c01d8c1",
   "metadata": {},
   "source": [
    "5.D. Use any other technique/method which can enhance the model performance"
   ]
  },
  {
   "cell_type": "markdown",
   "id": "15ba0e86",
   "metadata": {},
   "source": [
    "Note: We have already used attribute removal, standardisation/normalisation, target balancing techniques. So for this question, we will only do dimensionality reduction using PCA"
   ]
  },
  {
   "cell_type": "code",
   "execution_count": 97,
   "id": "ca43bff9",
   "metadata": {},
   "outputs": [
    {
     "name": "stdout",
     "output_type": "stream",
     "text": [
      "[0.08701357 0.07322989 0.05662771 0.04962456 0.04572376 0.03732261\n",
      " 0.03498805 0.03012426 0.02943544 0.02753065]\n"
     ]
    }
   ],
   "source": [
    "from sklearn.decomposition import PCA\n",
    "\n",
    "# Define the PCA model and fit it to the data\n",
    "pca = PCA(n_components=10)\n",
    "X_pca = pca.fit_transform(X_upsampled)\n",
    "\n",
    "# Print the explained variance ratio for each principal component\n",
    "print(pca.explained_variance_ratio_)"
   ]
  },
  {
   "cell_type": "markdown",
   "id": "ba17365b",
   "metadata": {},
   "source": [
    "5.E. Display and explain the classification report in detail"
   ]
  },
  {
   "cell_type": "code",
   "execution_count": 99,
   "id": "a43fff15",
   "metadata": {},
   "outputs": [
    {
     "name": "stdout",
     "output_type": "stream",
     "text": [
      "              precision    recall  f1-score   support\n",
      "\n",
      "          -1       0.96      0.89      0.92       300\n",
      "           1       0.89      0.96      0.92       286\n",
      "\n",
      "    accuracy                           0.92       586\n",
      "   macro avg       0.92      0.92      0.92       586\n",
      "weighted avg       0.93      0.92      0.92       586\n",
      "\n"
     ]
    }
   ],
   "source": [
    "from sklearn.metrics import classification_report\n",
    "\n",
    "print(classification_report(y_test, y_pred))"
   ]
  },
  {
   "cell_type": "markdown",
   "id": "f498fcd3",
   "metadata": {},
   "source": [
    "Observation: Based on the above classification report, the decision tree classifier performs well with accuracy, precision, recall and f1-score metrics are 92%, 93%, 92% and 92% respectively."
   ]
  },
  {
   "cell_type": "markdown",
   "id": "af937ccb",
   "metadata": {},
   "source": [
    "5.F. Apply the above steps for all possible models that you have learnt so far"
   ]
  },
  {
   "cell_type": "code",
   "execution_count": 104,
   "id": "44d9a7df",
   "metadata": {},
   "outputs": [],
   "source": [
    "from sklearn.model_selection import train_test_split\n",
    "from sklearn.linear_model import LogisticRegression\n",
    "from sklearn.tree import DecisionTreeClassifier\n",
    "from sklearn.svm import SVC\n",
    "from sklearn.neighbors import KNeighborsClassifier\n",
    "from sklearn.naive_bayes import GaussianNB\n",
    "from sklearn.ensemble import RandomForestClassifier, GradientBoostingClassifier\n",
    "from sklearn.metrics import accuracy_score\n",
    "\n",
    "\n",
    "# Split the data into training and testing sets\n",
    "X_train, X_test, y_train, y_test = train_test_split(X_pca, y_upsampled, test_size=0.2, random_state=42)\n",
    "\n",
    "# Define a list of classifiers to train\n",
    "classifiers = [\n",
    "    LogisticRegression(),\n",
    "    DecisionTreeClassifier(),\n",
    "    SVC(),\n",
    "    KNeighborsClassifier(),\n",
    "    GaussianNB(),\n",
    "    RandomForestClassifier(),\n",
    "    GradientBoostingClassifier()\n",
    "]\n",
    "\n",
    "# Train and evaluate each classifier\n",
    "for clf in classifiers:\n",
    "    clf.fit(X_train, y_train)\n",
    "    y_pred_train = clf.predict(X_train)\n",
    "    y_pred_test = clf.predict(X_test)\n",
    "    acc_train = accuracy_score(y_train, y_pred_train)\n",
    "    acc_test = accuracy_score(y_test, y_pred_test)"
   ]
  },
  {
   "cell_type": "markdown",
   "id": "239d40f7",
   "metadata": {},
   "source": [
    "Question 6. Post Training and Conclusion"
   ]
  },
  {
   "cell_type": "markdown",
   "id": "254e9b7c",
   "metadata": {},
   "source": [
    "6.A. Display and compare all the models designed with their train and test accuracies"
   ]
  },
  {
   "cell_type": "code",
   "execution_count": 105,
   "id": "43f1ab91",
   "metadata": {},
   "outputs": [
    {
     "name": "stdout",
     "output_type": "stream",
     "text": [
      "LogisticRegression_train: 0.6367521367521367\n",
      "LogisticRegression_test: 0.6399317406143344\n",
      "DecisionTreeClassifier_train: 1.0\n",
      "DecisionTreeClassifier_test: 0.9726962457337884\n",
      "SVC_train: 0.8106837606837607\n",
      "SVC_test: 0.7986348122866894\n",
      "KNeighborsClassifier_train: 0.9452991452991453\n",
      "KNeighborsClassifier_test: 0.9146757679180887\n",
      "GaussianNB_train: 0.6367521367521367\n",
      "GaussianNB_test: 0.6774744027303754\n",
      "RandomForestClassifier_train: 1.0\n",
      "RandomForestClassifier_test: 0.9982935153583617\n",
      "GradientBoostingClassifier_train: 0.9730769230769231\n",
      "GradientBoostingClassifier_test: 0.9232081911262798\n"
     ]
    }
   ],
   "source": [
    "# Train and evaluate each classifier\n",
    "for clf in classifiers:\n",
    "    clf.fit(X_train, y_train)\n",
    "    y_pred_train = clf.predict(X_train)\n",
    "    y_pred_test = clf.predict(X_test)\n",
    "    acc_train = accuracy_score(y_train, y_pred_train)\n",
    "    acc_test = accuracy_score(y_test, y_pred_test)\n",
    "    print(f\"{type(clf).__name__}_train: {acc_train}\")\n",
    "    print(f\"{type(clf).__name__}_test: {acc_test}\")"
   ]
  },
  {
   "cell_type": "markdown",
   "id": "cf9facb3",
   "metadata": {},
   "source": [
    "6.B. Select the final best trained model along with your detailed comments for selecting this model"
   ]
  },
  {
   "cell_type": "markdown",
   "id": "902a0983",
   "metadata": {},
   "source": [
    "Observation: I would choose KNeighborsClassifier as the best model due to high train and test accuracy. Even though there are other classifiers like DecisionTreeClassifier, RandomForestClassifier and GradientBoostingClassifier that have higher train and test accuracies, the values seem too good to be true (i.e, over-fitting) and hence choosing KNeighborsClassifier as the best model."
   ]
  },
  {
   "cell_type": "markdown",
   "id": "f3a8213f",
   "metadata": {},
   "source": [
    "6.C. Pickle the selected model for future use"
   ]
  },
  {
   "cell_type": "code",
   "execution_count": 108,
   "id": "681adf68",
   "metadata": {},
   "outputs": [],
   "source": [
    "import pickle\n",
    "from sklearn.neighbors import KNeighborsClassifier\n",
    "\n",
    "model = KNeighborsClassifier()\n",
    "model.fit(X_train, y_train)\n",
    "\n",
    "with open('model.pkl', 'wb') as f:\n",
    "    pickle.dump(model, f)\n",
    "\n",
    "f.close()"
   ]
  },
  {
   "cell_type": "markdown",
   "id": "6980dc36",
   "metadata": {},
   "source": [
    "6.D. Write your conclusion on the results"
   ]
  },
  {
   "cell_type": "markdown",
   "id": "7dbea2ee",
   "metadata": {},
   "source": [
    "As part of this module, we performed various feature elimination techniques like backward elimination, multi-collinearity and PCA to do the feature engineering and standardized all the features. We also did univariate, bivariate and multi-variate analysis to understand the relationship between certain selected features. Since the target variable was highly imbalanced, we used upsampling technique to balance the data.\n",
    "\n",
    "We then trained the model with multiple supervised learning techniques, performed all kinds of CV and hyper-parameter tuning. Based on the accuracy, we finalized KNeighborsClassifier as the best model due to high train and test accuracy with 94% and 91% respectively."
   ]
  },
  {
   "cell_type": "markdown",
   "id": "58f0b19b",
   "metadata": {},
   "source": [
    "# Thank You!"
   ]
  }
 ],
 "metadata": {
  "kernelspec": {
   "display_name": "Python 3 (ipykernel)",
   "language": "python",
   "name": "python3"
  },
  "language_info": {
   "codemirror_mode": {
    "name": "ipython",
    "version": 3
   },
   "file_extension": ".py",
   "mimetype": "text/x-python",
   "name": "python",
   "nbconvert_exporter": "python",
   "pygments_lexer": "ipython3",
   "version": "3.8.8"
  }
 },
 "nbformat": 4,
 "nbformat_minor": 5
}
