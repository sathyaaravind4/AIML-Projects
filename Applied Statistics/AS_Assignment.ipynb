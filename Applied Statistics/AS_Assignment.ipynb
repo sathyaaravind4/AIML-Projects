{
 "cells": [
  {
   "cell_type": "markdown",
   "id": "1c894032",
   "metadata": {},
   "source": [
    "Part A"
   ]
  },
  {
   "cell_type": "markdown",
   "id": "a5ffd621",
   "metadata": {},
   "source": [
    "Question 1"
   ]
  },
  {
   "cell_type": "markdown",
   "id": "ba25825f",
   "metadata": {},
   "source": [
    "1.A. Refer above table and find the joint probability of the people who planned to purchase and actually placed an order"
   ]
  },
  {
   "cell_type": "code",
   "execution_count": 10,
   "id": "2ae41c8b",
   "metadata": {},
   "outputs": [
    {
     "name": "stdout",
     "output_type": "stream",
     "text": [
      "Joint probability of the people who planned to purchase and actually placed an order: 0.2\n"
     ]
    }
   ],
   "source": [
    "P1 = 400 # People who planned to purchase and actually placed an order\n",
    "P = 2000 # Total number of people\n",
    "Prob_1 = round(P1/P,2)\n",
    "\n",
    "print(\"Joint probability of the people who planned to purchase and actually placed an order:\", Prob_1)"
   ]
  },
  {
   "cell_type": "markdown",
   "id": "bb554ec1",
   "metadata": {},
   "source": [
    "1.B. Refer to the above table and find the joint probability of the people who planned to purchase and actually placed an order, given that \n",
    "people planned to purchase"
   ]
  },
  {
   "cell_type": "code",
   "execution_count": 13,
   "id": "1109f478",
   "metadata": {},
   "outputs": [
    {
     "name": "stdout",
     "output_type": "stream",
     "text": [
      "Joint probability of the people who planned to purchase and actually placed an order, given that people planned to purchase: 0.8\n"
     ]
    }
   ],
   "source": [
    "P1 = 400 # People who planned to purchase and actually placed an order\n",
    "PP = 500 # Total number of people who planned to purchase\n",
    "Prob_2 = round(P1/PP,2)\n",
    "\n",
    "print(\"Joint probability of the people who planned to purchase and actually placed an order, given that people planned to purchase:\", Prob_2)"
   ]
  },
  {
   "cell_type": "markdown",
   "id": "207b7947",
   "metadata": {},
   "source": [
    " "
   ]
  },
  {
   "cell_type": "markdown",
   "id": "643d4c1f",
   "metadata": {},
   "source": [
    "Question 2"
   ]
  },
  {
   "cell_type": "code",
   "execution_count": 11,
   "id": "f8a0ab19",
   "metadata": {},
   "outputs": [],
   "source": [
    "import numpy as np\n",
    "import scipy.stats as stats"
   ]
  },
  {
   "cell_type": "code",
   "execution_count": 8,
   "id": "fd83d7fb",
   "metadata": {},
   "outputs": [],
   "source": [
    "n = 10"
   ]
  },
  {
   "cell_type": "code",
   "execution_count": 9,
   "id": "29ad9e92",
   "metadata": {},
   "outputs": [],
   "source": [
    "p = 0.05"
   ]
  },
  {
   "cell_type": "code",
   "execution_count": 14,
   "id": "91b5c300",
   "metadata": {},
   "outputs": [],
   "source": [
    "from scipy.stats import binom"
   ]
  },
  {
   "cell_type": "markdown",
   "id": "b43cd482",
   "metadata": {},
   "source": [
    "2.A. Probability that none of the items are defective?"
   ]
  },
  {
   "cell_type": "code",
   "execution_count": 24,
   "id": "addbc0f3",
   "metadata": {},
   "outputs": [
    {
     "data": {
      "text/plain": [
       "0.5987369392383789"
      ]
     },
     "execution_count": 24,
     "metadata": {},
     "output_type": "execute_result"
    }
   ],
   "source": [
    "binom.pmf(k=0, n=n, p=p)"
   ]
  },
  {
   "cell_type": "markdown",
   "id": "377e160e",
   "metadata": {},
   "source": [
    "2.B. Probability that exactly one of the items is defective?"
   ]
  },
  {
   "cell_type": "code",
   "execution_count": 25,
   "id": "e7596c6e",
   "metadata": {},
   "outputs": [
    {
     "data": {
      "text/plain": [
       "0.3151247048623047"
      ]
     },
     "execution_count": 25,
     "metadata": {},
     "output_type": "execute_result"
    }
   ],
   "source": [
    "binom.pmf(k=1, n=n, p=p)"
   ]
  },
  {
   "cell_type": "markdown",
   "id": "863a9c18",
   "metadata": {},
   "source": [
    "2.C. Probability that two or fewer of the items are defective?"
   ]
  },
  {
   "cell_type": "code",
   "execution_count": 22,
   "id": "3c03bd51",
   "metadata": {},
   "outputs": [
    {
     "data": {
      "text/plain": [
       "0.9884964426207031"
      ]
     },
     "execution_count": 22,
     "metadata": {},
     "output_type": "execute_result"
    }
   ],
   "source": [
    "binom.cdf(k=2, n=n, p=p)"
   ]
  },
  {
   "cell_type": "markdown",
   "id": "8877919e",
   "metadata": {},
   "source": [
    "2.D. Probability that three or more of the items are defective ?"
   ]
  },
  {
   "cell_type": "code",
   "execution_count": 23,
   "id": "49575aaf",
   "metadata": {},
   "outputs": [
    {
     "data": {
      "text/plain": [
       "0.01150355737929687"
      ]
     },
     "execution_count": 23,
     "metadata": {},
     "output_type": "execute_result"
    }
   ],
   "source": [
    "1 - binom.cdf(k=2, n=n, p=p)"
   ]
  },
  {
   "cell_type": "markdown",
   "id": "14171a9a",
   "metadata": {},
   "source": [
    " "
   ]
  },
  {
   "cell_type": "markdown",
   "id": "a615ddb7",
   "metadata": {},
   "source": [
    "Question 3"
   ]
  },
  {
   "cell_type": "markdown",
   "id": "53591850",
   "metadata": {},
   "source": [
    "3.A. What is Probability that in a given week he will sell some cars?"
   ]
  },
  {
   "cell_type": "code",
   "execution_count": 27,
   "id": "b009b7af",
   "metadata": {},
   "outputs": [],
   "source": [
    "from scipy.stats import poisson"
   ]
  },
  {
   "cell_type": "code",
   "execution_count": 33,
   "id": "8f28675b",
   "metadata": {},
   "outputs": [
    {
     "data": {
      "text/plain": [
       "0.950212931632136"
      ]
     },
     "execution_count": 33,
     "metadata": {},
     "output_type": "execute_result"
    }
   ],
   "source": [
    "1 - poisson.pmf(k = 0, mu = 3)"
   ]
  },
  {
   "cell_type": "markdown",
   "id": "0e3d95c9",
   "metadata": {},
   "source": [
    "3.B. What is Probability that in a given week he will sell 2 or more but less than 5 cars?"
   ]
  },
  {
   "cell_type": "code",
   "execution_count": 34,
   "id": "fc21b448",
   "metadata": {},
   "outputs": [
    {
     "data": {
      "text/plain": [
       "0.6161149710523164"
      ]
     },
     "execution_count": 34,
     "metadata": {},
     "output_type": "execute_result"
    }
   ],
   "source": [
    "poisson.pmf(k = 2, mu = 3) + poisson.pmf(k = 3, mu = 3) + poisson.pmf(k = 4, mu = 3)"
   ]
  },
  {
   "cell_type": "markdown",
   "id": "922f07fd",
   "metadata": {},
   "source": [
    "3.C. Plot the poisson distribution function for cumulative probability of cars sold per-week vs number of cars sold per week"
   ]
  },
  {
   "cell_type": "code",
   "execution_count": 39,
   "id": "85bdd174",
   "metadata": {},
   "outputs": [],
   "source": [
    "import matplotlib.pyplot as plt"
   ]
  },
  {
   "cell_type": "code",
   "execution_count": 46,
   "id": "da130857",
   "metadata": {},
   "outputs": [
    {
     "name": "stdout",
     "output_type": "stream",
     "text": [
      "[0.05  0.199 0.423 0.647 0.815 0.916 0.966 0.988 0.996 0.999 1.    1.\n",
      " 1.    1.    1.    1.   ]\n"
     ]
    }
   ],
   "source": [
    "cdf = poisson.cdf(np.arange(0,16), mu=3)\n",
    "cdf = np.round(cdf, 3)\n",
    "\n",
    "print(cdf)"
   ]
  },
  {
   "cell_type": "code",
   "execution_count": 47,
   "id": "641ca7e7",
   "metadata": {},
   "outputs": [
    {
     "data": {
      "image/png": "[encoded data removed]",
      "text/plain": [
       "<Figure size 432x288 with 1 Axes>"
      ]
     },
     "metadata": {
      "needs_background": "light"
     },
     "output_type": "display_data"
    }
   ],
   "source": [
    "plt.plot(np.arange(0,16), cdf, marker='o')\n",
    "plt.xlabel('Number of cars sold per week')\n",
    "plt.ylabel('Cumulative probability of cars sold per-week')\n",
    "\n",
    "plt.show()"
   ]
  },
  {
   "cell_type": "markdown",
   "id": "2cc19716",
   "metadata": {},
   "source": [
    " "
   ]
  },
  {
   "cell_type": "markdown",
   "id": "5687ea20",
   "metadata": {},
   "source": [
    "Question 4"
   ]
  },
  {
   "cell_type": "markdown",
   "id": "50b021e1",
   "metadata": {},
   "source": [
    "4.A. What is the probability that all three orders will be recognised correctly?"
   ]
  },
  {
   "cell_type": "code",
   "execution_count": 49,
   "id": "4b869845",
   "metadata": {},
   "outputs": [
    {
     "data": {
      "text/plain": [
       "0.653972032"
      ]
     },
     "execution_count": 49,
     "metadata": {},
     "output_type": "execute_result"
    }
   ],
   "source": [
    "binom.pmf(k=3, n=3, p=0.868)"
   ]
  },
  {
   "cell_type": "markdown",
   "id": "1b6fcb91",
   "metadata": {},
   "source": [
    "4.B. What is the probability that none of the three orders will be recognised correctly?"
   ]
  },
  {
   "cell_type": "code",
   "execution_count": 50,
   "id": "7827f0b7",
   "metadata": {},
   "outputs": [
    {
     "data": {
      "text/plain": [
       "0.0022999680000000003"
      ]
     },
     "execution_count": 50,
     "metadata": {},
     "output_type": "execute_result"
    }
   ],
   "source": [
    "binom.pmf(k=0, n=3, p=0.868)"
   ]
  },
  {
   "cell_type": "markdown",
   "id": "76f9f1a4",
   "metadata": {},
   "source": [
    "4.C. What is the probability that at least two of the three orders will be recognised correctly?"
   ]
  },
  {
   "cell_type": "code",
   "execution_count": 51,
   "id": "c14262b2",
   "metadata": {},
   "outputs": [
    {
     "data": {
      "text/plain": [
       "0.952327936"
      ]
     },
     "execution_count": 51,
     "metadata": {},
     "output_type": "execute_result"
    }
   ],
   "source": [
    "binom.pmf(k=2, n=3, p=0.868) + binom.pmf(k=3, n=3, p=0.868)"
   ]
  },
  {
   "cell_type": "markdown",
   "id": "13009317",
   "metadata": {},
   "source": [
    " "
   ]
  },
  {
   "cell_type": "markdown",
   "id": "184ef169",
   "metadata": {},
   "source": [
    "Question 5"
   ]
  },
  {
   "cell_type": "markdown",
   "id": "03ddc117",
   "metadata": {},
   "source": [
    "Explain 1 real life industry scenario (other than the ones mentioned above) where you can use the concepts learnt in this module of\n",
    "Applied Statistics to get data driven business solution."
   ]
  },
  {
   "cell_type": "markdown",
   "id": "a92d404c",
   "metadata": {},
   "source": [
    "In an online social media campaign, we can use binomial distribution to model the situation where we send ads to 'N' targeted segment of customers and out of them we believe that atleast 'K' customers (K < N) would click the ad. We can determine the probability for the same using binomial distribution since we have only 2 possible outcomes for every customer which is they either click the ad or don't click. Using historical data, we can determine the probability that a customer would click an ad in general which would be the success in this case."
   ]
  },
  {
   "cell_type": "markdown",
   "id": "e3e57e8d",
   "metadata": {},
   "source": [
    "PART B"
   ]
  },
  {
   "cell_type": "code",
   "execution_count": 90,
   "id": "da3979a4",
   "metadata": {},
   "outputs": [],
   "source": [
    "import numpy as np\n",
    "import pandas as pd\n",
    "import matplotlib.pyplot as plt\n",
    "import seaborn as sns\n",
    "import scipy.stats as stats"
   ]
  },
  {
   "cell_type": "markdown",
   "id": "04823ac6",
   "metadata": {},
   "source": [
    "Question 1"
   ]
  },
  {
   "cell_type": "markdown",
   "id": "c06e8f89",
   "metadata": {},
   "source": [
    "1. Read the data set, clean the data and prepare final dataset to be used for analysis"
   ]
  },
  {
   "cell_type": "code",
   "execution_count": 91,
   "id": "fe885591",
   "metadata": {},
   "outputs": [],
   "source": [
    "Basketball = pd.read_csv(r'C:\\Users\\GARAVIN4\\Documents\\GL Course\\Applied Statistics\\Basketball.csv')"
   ]
  },
  {
   "cell_type": "code",
   "execution_count": 92,
   "id": "a840e536",
   "metadata": {},
   "outputs": [],
   "source": [
    "Basketball.drop(Basketball.index[60], inplace = True) #dropping the row since info is not available for most columns"
   ]
  },
  {
   "cell_type": "code",
   "execution_count": 93,
   "id": "4362370e",
   "metadata": {},
   "outputs": [],
   "source": [
    "Basketball.replace(\"-\", 0, inplace = True) #replacing - with 0"
   ]
  },
  {
   "cell_type": "code",
   "execution_count": 94,
   "id": "f2e1b82c",
   "metadata": {},
   "outputs": [],
   "source": [
    "Basketball[\"TeamLaunch\"] = Basketball[\"TeamLaunch\"].str[:4] #taking first four digits for TeamLaunch for uniformity"
   ]
  },
  {
   "cell_type": "code",
   "execution_count": 95,
   "id": "2fd793b3",
   "metadata": {},
   "outputs": [
    {
     "data": {
      "text/plain": [
       "Team                   0\n",
       "Tournament             0\n",
       "Score                  0\n",
       "PlayedGames            0\n",
       "WonGames               0\n",
       "DrawnGames             0\n",
       "LostGames              0\n",
       "BasketScored           0\n",
       "BasketGiven            0\n",
       "TournamentChampion     0\n",
       "Runner-up              0\n",
       "TeamLaunch             0\n",
       "HighestPositionHeld    0\n",
       "dtype: int64"
      ]
     },
     "execution_count": 95,
     "metadata": {},
     "output_type": "execute_result"
    }
   ],
   "source": [
    "Basketball.isnull().sum() #checking for null values"
   ]
  },
  {
   "cell_type": "code",
   "execution_count": 96,
   "id": "94956890",
   "metadata": {},
   "outputs": [
    {
     "data": {
      "text/plain": [
       "Team                   object\n",
       "Tournament              int64\n",
       "Score                  object\n",
       "PlayedGames            object\n",
       "WonGames               object\n",
       "DrawnGames             object\n",
       "LostGames              object\n",
       "BasketScored           object\n",
       "BasketGiven            object\n",
       "TournamentChampion     object\n",
       "Runner-up              object\n",
       "TeamLaunch             object\n",
       "HighestPositionHeld     int64\n",
       "dtype: object"
      ]
     },
     "execution_count": 96,
     "metadata": {},
     "output_type": "execute_result"
    }
   ],
   "source": [
    "Basketball.dtypes"
   ]
  },
  {
   "cell_type": "code",
   "execution_count": 98,
   "id": "7d3a33cb",
   "metadata": {},
   "outputs": [],
   "source": [
    "Basketball[[\"Score\", \"PlayedGames\", \"WonGames\", \"DrawnGames\", \"LostGames\", \"BasketScored\", \"BasketGiven\", \"TournamentChampion\", \"Runner-up\", \"TeamLaunch\"]] = Basketball[[\"Score\", \"PlayedGames\", \"WonGames\", \"DrawnGames\", \"LostGames\", \"BasketScored\", \"BasketGiven\", \"TournamentChampion\", \"Runner-up\", \"TeamLaunch\"]].apply(pd.to_numeric)"
   ]
  },
  {
   "cell_type": "code",
   "execution_count": 99,
   "id": "6009da52",
   "metadata": {},
   "outputs": [
    {
     "data": {
      "text/plain": [
       "Team                   object\n",
       "Tournament              int64\n",
       "Score                   int64\n",
       "PlayedGames             int64\n",
       "WonGames                int64\n",
       "DrawnGames              int64\n",
       "LostGames               int64\n",
       "BasketScored            int64\n",
       "BasketGiven             int64\n",
       "TournamentChampion      int64\n",
       "Runner-up               int64\n",
       "TeamLaunch              int64\n",
       "HighestPositionHeld     int64\n",
       "dtype: object"
      ]
     },
     "execution_count": 99,
     "metadata": {},
     "output_type": "execute_result"
    }
   ],
   "source": [
    "Basketball.dtypes"
   ]
  },
  {
   "cell_type": "markdown",
   "id": "362fc501",
   "metadata": {},
   "source": [
    "Question 2"
   ]
  },
  {
   "cell_type": "markdown",
   "id": "bab885d0",
   "metadata": {},
   "source": [
    "Perform detailed statistical analysis and EDA using univariate, bi-variate and multivariate EDA techniques to get data driven insights on \n",
    "recommending which teams they can approach which will be a deal win for them. Also as a data and statistics expert you have to develop a \n",
    "detailed performance report using this data"
   ]
  },
  {
   "cell_type": "markdown",
   "id": "7d176934",
   "metadata": {},
   "source": [
    "Solution: Since it's given that some of the older teams are already in contract with competitors, we will do the analysis for top 10 teams so that Company X can choose among those top 10 teams that are still available"
   ]
  },
  {
   "cell_type": "code",
   "execution_count": 112,
   "id": "9f53a5f3",
   "metadata": {},
   "outputs": [
    {
     "data": {
      "text/html": [
       "<div>\n",
       "<style scoped>\n",
       "    .dataframe tbody tr th:only-of-type {\n",
       "        vertical-align: middle;\n",
       "    }\n",
       "\n",
       "    .dataframe tbody tr th {\n",
       "        vertical-align: top;\n",
       "    }\n",
       "\n",
       "    .dataframe thead th {\n",
       "        text-align: right;\n",
       "    }\n",
       "</style>\n",
       "<table border=\"1\" class=\"dataframe\">\n",
       "  <thead>\n",
       "    <tr style=\"text-align: right;\">\n",
       "      <th></th>\n",
       "      <th>count</th>\n",
       "      <th>mean</th>\n",
       "      <th>std</th>\n",
       "      <th>min</th>\n",
       "      <th>25%</th>\n",
       "      <th>50%</th>\n",
       "      <th>75%</th>\n",
       "      <th>max</th>\n",
       "    </tr>\n",
       "  </thead>\n",
       "  <tbody>\n",
       "    <tr>\n",
       "      <th>Tournament</th>\n",
       "      <td>60.0</td>\n",
       "      <td>24.383333</td>\n",
       "      <td>26.884620</td>\n",
       "      <td>1.0</td>\n",
       "      <td>4.00</td>\n",
       "      <td>12.0</td>\n",
       "      <td>39.00</td>\n",
       "      <td>86.0</td>\n",
       "    </tr>\n",
       "    <tr>\n",
       "      <th>Score</th>\n",
       "      <td>60.0</td>\n",
       "      <td>916.450000</td>\n",
       "      <td>1138.342899</td>\n",
       "      <td>14.0</td>\n",
       "      <td>104.25</td>\n",
       "      <td>395.5</td>\n",
       "      <td>1360.50</td>\n",
       "      <td>4385.0</td>\n",
       "    </tr>\n",
       "    <tr>\n",
       "      <th>PlayedGames</th>\n",
       "      <td>60.0</td>\n",
       "      <td>810.100000</td>\n",
       "      <td>877.465393</td>\n",
       "      <td>30.0</td>\n",
       "      <td>115.50</td>\n",
       "      <td>424.5</td>\n",
       "      <td>1345.50</td>\n",
       "      <td>2762.0</td>\n",
       "    </tr>\n",
       "    <tr>\n",
       "      <th>WonGames</th>\n",
       "      <td>60.0</td>\n",
       "      <td>309.033333</td>\n",
       "      <td>408.481395</td>\n",
       "      <td>5.0</td>\n",
       "      <td>34.75</td>\n",
       "      <td>124.0</td>\n",
       "      <td>432.75</td>\n",
       "      <td>1647.0</td>\n",
       "    </tr>\n",
       "    <tr>\n",
       "      <th>DrawnGames</th>\n",
       "      <td>60.0</td>\n",
       "      <td>192.083333</td>\n",
       "      <td>201.985508</td>\n",
       "      <td>4.0</td>\n",
       "      <td>26.25</td>\n",
       "      <td>98.5</td>\n",
       "      <td>331.50</td>\n",
       "      <td>633.0</td>\n",
       "    </tr>\n",
       "    <tr>\n",
       "      <th>LostGames</th>\n",
       "      <td>60.0</td>\n",
       "      <td>308.816667</td>\n",
       "      <td>294.508639</td>\n",
       "      <td>15.0</td>\n",
       "      <td>62.75</td>\n",
       "      <td>197.5</td>\n",
       "      <td>563.50</td>\n",
       "      <td>1070.0</td>\n",
       "    </tr>\n",
       "    <tr>\n",
       "      <th>BasketScored</th>\n",
       "      <td>60.0</td>\n",
       "      <td>1159.350000</td>\n",
       "      <td>1512.063948</td>\n",
       "      <td>34.0</td>\n",
       "      <td>154.50</td>\n",
       "      <td>444.0</td>\n",
       "      <td>1669.75</td>\n",
       "      <td>5947.0</td>\n",
       "    </tr>\n",
       "    <tr>\n",
       "      <th>BasketGiven</th>\n",
       "      <td>60.0</td>\n",
       "      <td>1159.233333</td>\n",
       "      <td>1163.946914</td>\n",
       "      <td>55.0</td>\n",
       "      <td>236.00</td>\n",
       "      <td>632.5</td>\n",
       "      <td>2001.25</td>\n",
       "      <td>3889.0</td>\n",
       "    </tr>\n",
       "    <tr>\n",
       "      <th>TournamentChampion</th>\n",
       "      <td>60.0</td>\n",
       "      <td>1.450000</td>\n",
       "      <td>5.515540</td>\n",
       "      <td>0.0</td>\n",
       "      <td>0.00</td>\n",
       "      <td>0.0</td>\n",
       "      <td>0.00</td>\n",
       "      <td>33.0</td>\n",
       "    </tr>\n",
       "    <tr>\n",
       "      <th>Runner-up</th>\n",
       "      <td>60.0</td>\n",
       "      <td>1.433333</td>\n",
       "      <td>4.574679</td>\n",
       "      <td>0.0</td>\n",
       "      <td>0.00</td>\n",
       "      <td>0.0</td>\n",
       "      <td>0.00</td>\n",
       "      <td>25.0</td>\n",
       "    </tr>\n",
       "    <tr>\n",
       "      <th>TeamLaunch</th>\n",
       "      <td>60.0</td>\n",
       "      <td>1957.950000</td>\n",
       "      <td>26.646732</td>\n",
       "      <td>1929.0</td>\n",
       "      <td>1934.75</td>\n",
       "      <td>1950.5</td>\n",
       "      <td>1977.25</td>\n",
       "      <td>2016.0</td>\n",
       "    </tr>\n",
       "    <tr>\n",
       "      <th>HighestPositionHeld</th>\n",
       "      <td>60.0</td>\n",
       "      <td>7.050000</td>\n",
       "      <td>5.315232</td>\n",
       "      <td>1.0</td>\n",
       "      <td>3.00</td>\n",
       "      <td>6.0</td>\n",
       "      <td>10.00</td>\n",
       "      <td>20.0</td>\n",
       "    </tr>\n",
       "  </tbody>\n",
       "</table>\n",
       "</div>"
      ],
      "text/plain": [
       "                     count         mean          std     min      25%     50%  \\\n",
       "Tournament            60.0    24.383333    26.884620     1.0     4.00    12.0   \n",
       "Score                 60.0   916.450000  1138.342899    14.0   104.25   395.5   \n",
       "PlayedGames           60.0   810.100000   877.465393    30.0   115.50   424.5   \n",
       "WonGames              60.0   309.033333   408.481395     5.0    34.75   124.0   \n",
       "DrawnGames            60.0   192.083333   201.985508     4.0    26.25    98.5   \n",
       "LostGames             60.0   308.816667   294.508639    15.0    62.75   197.5   \n",
       "BasketScored          60.0  1159.350000  1512.063948    34.0   154.50   444.0   \n",
       "BasketGiven           60.0  1159.233333  1163.946914    55.0   236.00   632.5   \n",
       "TournamentChampion    60.0     1.450000     5.515540     0.0     0.00     0.0   \n",
       "Runner-up             60.0     1.433333     4.574679     0.0     0.00     0.0   \n",
       "TeamLaunch            60.0  1957.950000    26.646732  1929.0  1934.75  1950.5   \n",
       "HighestPositionHeld   60.0     7.050000     5.315232     1.0     3.00     6.0   \n",
       "\n",
       "                         75%     max  \n",
       "Tournament             39.00    86.0  \n",
       "Score                1360.50  4385.0  \n",
       "PlayedGames          1345.50  2762.0  \n",
       "WonGames              432.75  1647.0  \n",
       "DrawnGames            331.50   633.0  \n",
       "LostGames             563.50  1070.0  \n",
       "BasketScored         1669.75  5947.0  \n",
       "BasketGiven          2001.25  3889.0  \n",
       "TournamentChampion      0.00    33.0  \n",
       "Runner-up               0.00    25.0  \n",
       "TeamLaunch           1977.25  2016.0  \n",
       "HighestPositionHeld    10.00    20.0  "
      ]
     },
     "execution_count": 112,
     "metadata": {},
     "output_type": "execute_result"
    }
   ],
   "source": [
    "Basketball.describe().T"
   ]
  },
  {
   "cell_type": "markdown",
   "id": "8ef72239",
   "metadata": {},
   "source": [
    "Plotting pairplot and heatmap for certain features that have high chance of association based on the feature description"
   ]
  },
  {
   "cell_type": "code",
   "execution_count": 113,
   "id": "8a2650d6",
   "metadata": {},
   "outputs": [
    {
     "data": {
      "image/png": "[encoded data removed]",
      "text/plain": [
       "<Figure size 1080x1080 with 42 Axes>"
      ]
     },
     "metadata": {
      "needs_background": "light"
     },
     "output_type": "display_data"
    }
   ],
   "source": [
    "sns.pairplot(Basketball[[\"Tournament\", \"Score\", \"WonGames\", \"BasketScored\", \"TournamentChampion\", \"HighestPositionHeld\"]])\n",
    "plt.show()"
   ]
  },
  {
   "cell_type": "code",
   "execution_count": 115,
   "id": "f78e7c33",
   "metadata": {},
   "outputs": [
    {
     "data": {
      "image/png": "[encoded data removed]",
      "text/plain": [
       "<Figure size 720x720 with 2 Axes>"
      ]
     },
     "metadata": {
      "needs_background": "light"
     },
     "output_type": "display_data"
    }
   ],
   "source": [
    "fig = plt.subplots(figsize=(10, 10))   \n",
    "sns.heatmap(Basketball[[\"Tournament\", \"Score\", \"WonGames\", \"BasketScored\", \"TournamentChampion\", \"HighestPositionHeld\"]].corr(), annot=True) \n",
    "plt.show()"
   ]
  },
  {
   "cell_type": "code",
   "execution_count": 101,
   "id": "88161af8",
   "metadata": {},
   "outputs": [
    {
     "data": {
      "image/png": "[encoded data removed]",
      "text/plain": [
       "<Figure size 432x288 with 1 Axes>"
      ]
     },
     "metadata": {
      "needs_background": "light"
     },
     "output_type": "display_data"
    }
   ],
   "source": [
    "Top_10_Scores_Team = Basketball.sort_values(by=\"Score\", ascending=False)[:10][[\"Team\", \"Score\"]]\n",
    "plt.barh(Top_10_Scores_Team[\"Team\"], Top_10_Scores_Team[\"Score\"])\n",
    "plt.tight_layout()\n",
    "plt.show()"
   ]
  },
  {
   "cell_type": "code",
   "execution_count": 102,
   "id": "8217f156",
   "metadata": {},
   "outputs": [
    {
     "data": {
      "text/plain": [
       "0    Team 1\n",
       "Name: Team, dtype: object"
      ]
     },
     "execution_count": 102,
     "metadata": {},
     "output_type": "execute_result"
    }
   ],
   "source": [
    "Basketball[Basketball[\"Score\"]==Basketball[\"Score\"].max()][\"Team\"] #team with highest score"
   ]
  },
  {
   "cell_type": "code",
   "execution_count": 103,
   "id": "b550c46e",
   "metadata": {},
   "outputs": [
    {
     "data": {
      "image/png": "[encoded data removed]",
      "text/plain": [
       "<Figure size 432x288 with 1 Axes>"
      ]
     },
     "metadata": {
      "needs_background": "light"
     },
     "output_type": "display_data"
    }
   ],
   "source": [
    "Bottom_10_Scores_Team = Basketball.sort_values(by=\"Score\", ascending=True)[:10][[\"Team\", \"Score\"]]\n",
    "plt.barh(Bottom_10_Scores_Team[\"Team\"], Bottom_10_Scores_Team[\"Score\"])\n",
    "plt.tight_layout()\n",
    "plt.show()"
   ]
  },
  {
   "cell_type": "code",
   "execution_count": 104,
   "id": "673ed289",
   "metadata": {},
   "outputs": [
    {
     "data": {
      "text/plain": [
       "59    Team 60\n",
       "Name: Team, dtype: object"
      ]
     },
     "execution_count": 104,
     "metadata": {},
     "output_type": "execute_result"
    }
   ],
   "source": [
    "Basketball[Basketball[\"Score\"]==Basketball[\"Score\"].min()][\"Team\"] #team with lowest score"
   ]
  },
  {
   "cell_type": "code",
   "execution_count": 105,
   "id": "d881cf82",
   "metadata": {},
   "outputs": [
    {
     "data": {
      "text/html": [
       "<div>\n",
       "<style scoped>\n",
       "    .dataframe tbody tr th:only-of-type {\n",
       "        vertical-align: middle;\n",
       "    }\n",
       "\n",
       "    .dataframe tbody tr th {\n",
       "        vertical-align: top;\n",
       "    }\n",
       "\n",
       "    .dataframe thead th {\n",
       "        text-align: right;\n",
       "    }\n",
       "</style>\n",
       "<table border=\"1\" class=\"dataframe\">\n",
       "  <thead>\n",
       "    <tr style=\"text-align: right;\">\n",
       "      <th></th>\n",
       "      <th>Team</th>\n",
       "      <th>TeamLaunch</th>\n",
       "    </tr>\n",
       "  </thead>\n",
       "  <tbody>\n",
       "    <tr>\n",
       "      <th>0</th>\n",
       "      <td>Team 1</td>\n",
       "      <td>1929</td>\n",
       "    </tr>\n",
       "    <tr>\n",
       "      <th>51</th>\n",
       "      <td>Team 52</td>\n",
       "      <td>1929</td>\n",
       "    </tr>\n",
       "    <tr>\n",
       "      <th>13</th>\n",
       "      <td>Team 14</td>\n",
       "      <td>1929</td>\n",
       "    </tr>\n",
       "    <tr>\n",
       "      <th>7</th>\n",
       "      <td>Team 8</td>\n",
       "      <td>1929</td>\n",
       "    </tr>\n",
       "    <tr>\n",
       "      <th>6</th>\n",
       "      <td>Team 7</td>\n",
       "      <td>1929</td>\n",
       "    </tr>\n",
       "    <tr>\n",
       "      <th>44</th>\n",
       "      <td>Team 45</td>\n",
       "      <td>1929</td>\n",
       "    </tr>\n",
       "    <tr>\n",
       "      <th>4</th>\n",
       "      <td>Team 5</td>\n",
       "      <td>1929</td>\n",
       "    </tr>\n",
       "    <tr>\n",
       "      <th>2</th>\n",
       "      <td>Team 3</td>\n",
       "      <td>1929</td>\n",
       "    </tr>\n",
       "    <tr>\n",
       "      <th>1</th>\n",
       "      <td>Team 2</td>\n",
       "      <td>1929</td>\n",
       "    </tr>\n",
       "    <tr>\n",
       "      <th>53</th>\n",
       "      <td>Team 54</td>\n",
       "      <td>1929</td>\n",
       "    </tr>\n",
       "  </tbody>\n",
       "</table>\n",
       "</div>"
      ],
      "text/plain": [
       "       Team  TeamLaunch\n",
       "0    Team 1        1929\n",
       "51  Team 52        1929\n",
       "13  Team 14        1929\n",
       "7    Team 8        1929\n",
       "6    Team 7        1929\n",
       "44  Team 45        1929\n",
       "4    Team 5        1929\n",
       "2    Team 3        1929\n",
       "1    Team 2        1929\n",
       "53  Team 54        1929"
      ]
     },
     "execution_count": 105,
     "metadata": {},
     "output_type": "execute_result"
    }
   ],
   "source": [
    "Top_10_Year_Team = Basketball.sort_values(by=\"TeamLaunch\", ascending=True)[:10][[\"Team\", \"TeamLaunch\"]]\n",
    "Top_10_Year_Team # top 10 oldest teams"
   ]
  },
  {
   "cell_type": "code",
   "execution_count": 107,
   "id": "42de17e1",
   "metadata": {},
   "outputs": [
    {
     "data": {
      "text/plain": [
       "0      Team 1\n",
       "1      Team 2\n",
       "2      Team 3\n",
       "4      Team 5\n",
       "6      Team 7\n",
       "7      Team 8\n",
       "13    Team 14\n",
       "44    Team 45\n",
       "51    Team 52\n",
       "53    Team 54\n",
       "Name: Team, dtype: object"
      ]
     },
     "execution_count": 107,
     "metadata": {},
     "output_type": "execute_result"
    }
   ],
   "source": [
    "Basketball[Basketball[\"TeamLaunch\"]==Basketball[\"TeamLaunch\"].min()][\"Team\"] #oldest team"
   ]
  },
  {
   "cell_type": "code",
   "execution_count": 106,
   "id": "e3f124d8",
   "metadata": {},
   "outputs": [
    {
     "data": {
      "text/html": [
       "<div>\n",
       "<style scoped>\n",
       "    .dataframe tbody tr th:only-of-type {\n",
       "        vertical-align: middle;\n",
       "    }\n",
       "\n",
       "    .dataframe tbody tr th {\n",
       "        vertical-align: top;\n",
       "    }\n",
       "\n",
       "    .dataframe thead th {\n",
       "        text-align: right;\n",
       "    }\n",
       "</style>\n",
       "<table border=\"1\" class=\"dataframe\">\n",
       "  <thead>\n",
       "    <tr style=\"text-align: right;\">\n",
       "      <th></th>\n",
       "      <th>Team</th>\n",
       "      <th>TeamLaunch</th>\n",
       "    </tr>\n",
       "  </thead>\n",
       "  <tbody>\n",
       "    <tr>\n",
       "      <th>55</th>\n",
       "      <td>Team 56</td>\n",
       "      <td>2016</td>\n",
       "    </tr>\n",
       "    <tr>\n",
       "      <th>43</th>\n",
       "      <td>Team 44</td>\n",
       "      <td>2014</td>\n",
       "    </tr>\n",
       "    <tr>\n",
       "      <th>56</th>\n",
       "      <td>Team 57</td>\n",
       "      <td>2009</td>\n",
       "    </tr>\n",
       "    <tr>\n",
       "      <th>36</th>\n",
       "      <td>Team 37</td>\n",
       "      <td>2007</td>\n",
       "    </tr>\n",
       "    <tr>\n",
       "      <th>24</th>\n",
       "      <td>Team 25</td>\n",
       "      <td>2004</td>\n",
       "    </tr>\n",
       "    <tr>\n",
       "      <th>42</th>\n",
       "      <td>Team 43</td>\n",
       "      <td>1999</td>\n",
       "    </tr>\n",
       "    <tr>\n",
       "      <th>20</th>\n",
       "      <td>Team 21</td>\n",
       "      <td>1998</td>\n",
       "    </tr>\n",
       "    <tr>\n",
       "      <th>47</th>\n",
       "      <td>Team 48</td>\n",
       "      <td>1996</td>\n",
       "    </tr>\n",
       "    <tr>\n",
       "      <th>48</th>\n",
       "      <td>Team 49</td>\n",
       "      <td>1995</td>\n",
       "    </tr>\n",
       "    <tr>\n",
       "      <th>38</th>\n",
       "      <td>Team 39</td>\n",
       "      <td>1994</td>\n",
       "    </tr>\n",
       "  </tbody>\n",
       "</table>\n",
       "</div>"
      ],
      "text/plain": [
       "       Team  TeamLaunch\n",
       "55  Team 56        2016\n",
       "43  Team 44        2014\n",
       "56  Team 57        2009\n",
       "36  Team 37        2007\n",
       "24  Team 25        2004\n",
       "42  Team 43        1999\n",
       "20  Team 21        1998\n",
       "47  Team 48        1996\n",
       "48  Team 49        1995\n",
       "38  Team 39        1994"
      ]
     },
     "execution_count": 106,
     "metadata": {},
     "output_type": "execute_result"
    }
   ],
   "source": [
    "Bottom_10_Year_Team = Basketball.sort_values(by=\"TeamLaunch\", ascending=False)[:10][[\"Team\", \"TeamLaunch\"]]\n",
    "Bottom_10_Year_Team # top 10 newest teams"
   ]
  },
  {
   "cell_type": "code",
   "execution_count": 88,
   "id": "1ab90b06",
   "metadata": {},
   "outputs": [
    {
     "data": {
      "text/plain": [
       "55    Team 56\n",
       "Name: Team, dtype: object"
      ]
     },
     "execution_count": 88,
     "metadata": {},
     "output_type": "execute_result"
    }
   ],
   "source": [
    "Basketball[Basketball[\"TeamLaunch\"]==Basketball[\"TeamLaunch\"].max()][\"Team\"] #newest team"
   ]
  },
  {
   "cell_type": "code",
   "execution_count": 108,
   "id": "268ff49b",
   "metadata": {},
   "outputs": [
    {
     "data": {
      "image/png": "[encoded data removed]",
      "text/plain": [
       "<Figure size 432x288 with 1 Axes>"
      ]
     },
     "metadata": {
      "needs_background": "light"
     },
     "output_type": "display_data"
    }
   ],
   "source": [
    "Top_10_Goals_Team = Basketball.sort_values(by=\"BasketScored\", ascending=False)[:10][[\"Team\", \"BasketScored\"]]\n",
    "plt.barh(Top_10_Goals_Team[\"Team\"], Top_10_Goals_Team[\"BasketScored\"])\n",
    "plt.tight_layout()\n",
    "plt.show()"
   ]
  },
  {
   "cell_type": "code",
   "execution_count": 109,
   "id": "12f6c7a6",
   "metadata": {},
   "outputs": [
    {
     "data": {
      "text/plain": [
       "0    Team 1\n",
       "Name: Team, dtype: object"
      ]
     },
     "execution_count": 109,
     "metadata": {},
     "output_type": "execute_result"
    }
   ],
   "source": [
    "Basketball[Basketball[\"BasketScored\"]==Basketball[\"BasketScored\"].max()][\"Team\"] #team with highest goals"
   ]
  },
  {
   "cell_type": "code",
   "execution_count": 110,
   "id": "7cda31cd",
   "metadata": {},
   "outputs": [
    {
     "data": {
      "image/png": "[encoded data removed]",
      "text/plain": [
       "<Figure size 432x288 with 1 Axes>"
      ]
     },
     "metadata": {
      "needs_background": "light"
     },
     "output_type": "display_data"
    }
   ],
   "source": [
    "Bottom_10_Goals_Team = Basketball.sort_values(by=\"BasketScored\", ascending=True)[:10][[\"Team\", \"BasketScored\"]]\n",
    "plt.barh(Bottom_10_Goals_Team[\"Team\"], Bottom_10_Goals_Team[\"BasketScored\"])\n",
    "plt.tight_layout()\n",
    "plt.show()"
   ]
  },
  {
   "cell_type": "code",
   "execution_count": 111,
   "id": "9bf63d42",
   "metadata": {},
   "outputs": [
    {
     "data": {
      "text/plain": [
       "59    Team 60\n",
       "Name: Team, dtype: object"
      ]
     },
     "execution_count": 111,
     "metadata": {},
     "output_type": "execute_result"
    }
   ],
   "source": [
    "Basketball[Basketball[\"BasketScored\"]==Basketball[\"BasketScored\"].min()][\"Team\"] #team with lowest goals"
   ]
  },
  {
   "cell_type": "code",
   "execution_count": 70,
   "id": "1c68e260",
   "metadata": {},
   "outputs": [],
   "source": [
    "Basketball[\"Win %\"] = round(Basketball[\"WonGames\"] / Basketball[\"PlayedGames\"] * 100,2) "
   ]
  },
  {
   "cell_type": "code",
   "execution_count": 76,
   "id": "9cd910b5",
   "metadata": {},
   "outputs": [
    {
     "data": {
      "image/png": "[encoded data removed]",
      "text/plain": [
       "<Figure size 432x288 with 1 Axes>"
      ]
     },
     "metadata": {
      "needs_background": "light"
     },
     "output_type": "display_data"
    }
   ],
   "source": [
    "Top_10_Win_Team = Basketball.sort_values(by=\"Win %\", ascending=False)[:10][[\"Team\", \"Win %\"]]\n",
    "plt.barh(Top_10_Win_Team[\"Team\"], Top_10_Win_Team[\"Win %\"])\n",
    "plt.tight_layout()\n",
    "plt.show()"
   ]
  },
  {
   "cell_type": "code",
   "execution_count": 87,
   "id": "50e452b6",
   "metadata": {},
   "outputs": [
    {
     "data": {
      "text/plain": [
       "0    Team 1\n",
       "Name: Team, dtype: object"
      ]
     },
     "execution_count": 87,
     "metadata": {},
     "output_type": "execute_result"
    }
   ],
   "source": [
    "Basketball[Basketball[\"Win %\"]==Basketball[\"Win %\"].max()][\"Team\"] #team with highest win %"
   ]
  },
  {
   "cell_type": "code",
   "execution_count": 118,
   "id": "29ab9a39",
   "metadata": {},
   "outputs": [],
   "source": [
    "Basketball[\"Lose %\"] = round(Basketball[\"LostGames\"] / Basketball[\"PlayedGames\"] * 100,2) "
   ]
  },
  {
   "cell_type": "code",
   "execution_count": 128,
   "id": "a2a77198",
   "metadata": {},
   "outputs": [
    {
     "data": {
      "image/png": "[encoded data removed]",
      "text/plain": [
       "<Figure size 432x288 with 1 Axes>"
      ]
     },
     "metadata": {
      "needs_background": "light"
     },
     "output_type": "display_data"
    }
   ],
   "source": [
    "Top_10_Lose_Team = Basketball.sort_values(by=\"Lose %\", ascending=False)[:10][[\"Team\", \"Lose %\"]]\n",
    "plt.barh(Top_10_Lose_Team[\"Team\"], Top_10_Lose_Team[\"Lose %\"])\n",
    "plt.tight_layout()\n",
    "plt.show()"
   ]
  },
  {
   "cell_type": "code",
   "execution_count": 121,
   "id": "24031f5c",
   "metadata": {},
   "outputs": [
    {
     "data": {
      "text/plain": [
       "0    Team 1\n",
       "Name: Team, dtype: object"
      ]
     },
     "execution_count": 121,
     "metadata": {},
     "output_type": "execute_result"
    }
   ],
   "source": [
    "Basketball[Basketball[\"Lose %\"]==Basketball[\"Lose %\"].min()][\"Team\"] #team with lowest lose %"
   ]
  },
  {
   "cell_type": "code",
   "execution_count": 123,
   "id": "00a30849",
   "metadata": {},
   "outputs": [],
   "source": [
    "Basketball[\"Scoring Ratio\"] = round(Basketball[\"BasketScored\"] / Basketball[\"BasketGiven\"],2) "
   ]
  },
  {
   "cell_type": "code",
   "execution_count": 124,
   "id": "26dbc7cf",
   "metadata": {},
   "outputs": [
    {
     "data": {
      "image/png": "[encoded data removed]",
      "text/plain": [
       "<Figure size 432x288 with 1 Axes>"
      ]
     },
     "metadata": {
      "needs_background": "light"
     },
     "output_type": "display_data"
    }
   ],
   "source": [
    "Top_10_Ratio_Team = Basketball.sort_values(by=\"Scoring Ratio\", ascending=False)[:10][[\"Team\", \"Scoring Ratio\"]]\n",
    "plt.barh(Top_10_Ratio_Team[\"Team\"], Top_10_Ratio_Team[\"Scoring Ratio\"])\n",
    "plt.tight_layout()\n",
    "plt.show()"
   ]
  },
  {
   "cell_type": "code",
   "execution_count": 125,
   "id": "2ce47d36",
   "metadata": {},
   "outputs": [
    {
     "data": {
      "text/plain": [
       "0    Team 1\n",
       "1    Team 2\n",
       "Name: Team, dtype: object"
      ]
     },
     "execution_count": 125,
     "metadata": {},
     "output_type": "execute_result"
    }
   ],
   "source": [
    "Basketball[Basketball[\"Scoring Ratio\"]==Basketball[\"Scoring Ratio\"].max()][\"Team\"] #team with high scoring ratio is a high performing team"
   ]
  },
  {
   "cell_type": "code",
   "execution_count": 126,
   "id": "a0bca3cb",
   "metadata": {},
   "outputs": [
    {
     "data": {
      "image/png": "[encoded data removed]",
      "text/plain": [
       "<Figure size 432x288 with 1 Axes>"
      ]
     },
     "metadata": {
      "needs_background": "light"
     },
     "output_type": "display_data"
    }
   ],
   "source": [
    "Bottom_10_Ratio_Team = Basketball.sort_values(by=\"Scoring Ratio\", ascending=True)[:10][[\"Team\", \"Scoring Ratio\"]]\n",
    "plt.barh(Bottom_10_Ratio_Team[\"Team\"], Bottom_10_Ratio_Team[\"Scoring Ratio\"])\n",
    "plt.tight_layout()\n",
    "plt.show()"
   ]
  },
  {
   "cell_type": "code",
   "execution_count": 127,
   "id": "34201c35",
   "metadata": {},
   "outputs": [
    {
     "data": {
      "text/plain": [
       "54    Team 55\n",
       "Name: Team, dtype: object"
      ]
     },
     "execution_count": 127,
     "metadata": {},
     "output_type": "execute_result"
    }
   ],
   "source": [
    "Basketball[Basketball[\"Scoring Ratio\"]==Basketball[\"Scoring Ratio\"].min()][\"Team\"] #team with low scoring ratio is a low performing team"
   ]
  },
  {
   "cell_type": "code",
   "execution_count": 134,
   "id": "86371a4a",
   "metadata": {},
   "outputs": [
    {
     "data": {
      "image/png": "[encoded data removed]",
      "text/plain": [
       "<Figure size 432x288 with 1 Axes>"
      ]
     },
     "metadata": {
      "needs_background": "light"
     },
     "output_type": "display_data"
    }
   ],
   "source": [
    "Basketball_1 = Basketball[Basketball[\"TournamentChampion\"] != 0]\n",
    "Top_10_Champ_Team = Basketball_1.sort_values(by=\"TournamentChampion\", ascending=False)[:10][[\"Team\", \"TournamentChampion\"]]\n",
    "plt.barh(Top_10_Champ_Team[\"Team\"], Top_10_Champ_Team[\"TournamentChampion\"])\n",
    "plt.tight_layout()\n",
    "plt.show()"
   ]
  },
  {
   "cell_type": "code",
   "execution_count": 124,
   "id": "65768f3b",
   "metadata": {},
   "outputs": [
    {
     "data": {
      "text/plain": [
       "0    Team 1\n",
       "Name: Team, dtype: object"
      ]
     },
     "execution_count": 124,
     "metadata": {},
     "output_type": "execute_result"
    }
   ],
   "source": [
    "Basketball[Basketball[\"TournamentChampion\"]==Basketball[\"TournamentChampion\"].max()][\"Team\"] #team with max number of times tournament champion"
   ]
  },
  {
   "cell_type": "code",
   "execution_count": 141,
   "id": "c8fbcad3",
   "metadata": {},
   "outputs": [
    {
     "data": {
      "text/plain": [
       "0      Team 1\n",
       "1      Team 2\n",
       "2      Team 3\n",
       "3      Team 4\n",
       "4      Team 5\n",
       "5      Team 6\n",
       "7      Team 8\n",
       "9     Team 10\n",
       "10    Team 11\n",
       "Name: Team, dtype: object"
      ]
     },
     "execution_count": 141,
     "metadata": {},
     "output_type": "execute_result"
    }
   ],
   "source": [
    "Basketball[Basketball[\"HighestPositionHeld\"]==Basketball[\"HighestPositionHeld\"].min()][\"Team\"] #team with the highest position"
   ]
  },
  {
   "cell_type": "code",
   "execution_count": 142,
   "id": "6bd00806",
   "metadata": {},
   "outputs": [
    {
     "data": {
      "image/png": "[encoded data removed]",
      "text/plain": [
       "<Figure size 432x288 with 1 Axes>"
      ]
     },
     "metadata": {
      "needs_background": "light"
     },
     "output_type": "display_data"
    }
   ],
   "source": [
    "Bottom_10_HighPos_Team = Basketball.sort_values(by=\"HighestPositionHeld\", ascending=False)[:10][[\"Team\", \"HighestPositionHeld\"]]\n",
    "plt.barh(Bottom_10_HighPos_Team[\"Team\"], Bottom_10_HighPos_Team[\"HighestPositionHeld\"])\n",
    "plt.tight_layout()\n",
    "plt.show()"
   ]
  },
  {
   "cell_type": "code",
   "execution_count": 143,
   "id": "ca472e77",
   "metadata": {},
   "outputs": [
    {
     "data": {
      "text/plain": [
       "56    Team 57\n",
       "Name: Team, dtype: object"
      ]
     },
     "execution_count": 143,
     "metadata": {},
     "output_type": "execute_result"
    }
   ],
   "source": [
    "Basketball[Basketball[\"HighestPositionHeld\"]==Basketball[\"HighestPositionHeld\"].max()][\"Team\"] #team with the lowest position"
   ]
  },
  {
   "cell_type": "markdown",
   "id": "c1c58748",
   "metadata": {},
   "source": [
    "Conclusion:\n",
    "Out of all the teams, I would strongly recommend Company X to go with any of these teams that are available for a new contract - Team 1, 2, 3, 4, 5, 6, 7, 8, 9, 10, 11, 12, 21\n",
    "\n",
    "These are the lowest performing teams that I wouldn't recommend - Team 28, 33, 34, 43, 47, 48, 49, 50, 51, 52, 53, 54, 55, 56, 57, 58, 59, 60"
   ]
  },
  {
   "cell_type": "markdown",
   "id": "33eaa1c9",
   "metadata": {},
   "source": [
    "Question 3"
   ]
  },
  {
   "cell_type": "markdown",
   "id": "1193cb82",
   "metadata": {},
   "source": [
    "Please include any improvements or suggestions to the association management on quality, quantity, variety, velocity, veracity etc. on the \n",
    "data points collected by the association to perform a better data analysis in future. At-least 1 suggestion for each point"
   ]
  },
  {
   "cell_type": "markdown",
   "id": "3a90d55c",
   "metadata": {},
   "source": [
    "Quality:\n",
    "Overall quality of data is good. However, following are the improvements,\n",
    "1. TeamLaunch is not in uniform format. Better to stick with one year i.e, starting year for analysis purpose.\n",
    "2. Last data point (i.e. Team 61) doesn't add any value since most of the column's are blank. This data point could have been removed.\n",
    "3. Many missing values in TournamentChampion and Runner-up columns. They can try to collect data as much as possible to improve quality.\n",
    "4. If there is any team where it's no longer active, those data points can be removed since we don't want to make any decisions based on that team.\n",
    "\n",
    "Quantity:\n",
    "Quantity of data is quite less. If we need to do any predictive/prescriptive analytics then we would need more volume of data. If it's going to be only descriptive analytics then the quantity is fine to just summarize the data using descriptive statistics and charts to derive insights.\n",
    "\n",
    "Variety:\n",
    "The data as a whole is semi-structured since the TeamLaunch is not in uniform format and there are some missing values. It's better to have structured data in future to have better insights. Also, the data types are uniform with all fields being int data type except the Team Name.\n",
    "\n",
    "Velocity:\n",
    "Velocity of data should be less since not a significant number of teams would get added every year. If there are more teams getting added then they can possibly host the data in a database like SQL server to better manage the data.\n",
    "\n",
    "Veracity:\n",
    "Since there are only few data points, the data should be accurate enough. However to ensure best practices are followed, regular data quality audits can be performed that includes accuracy, timeliness, completeness, relevancy and reliability."
   ]
  },
  {
   "cell_type": "markdown",
   "id": "5049db25",
   "metadata": {},
   "source": [
    "Part C"
   ]
  },
  {
   "cell_type": "code",
   "execution_count": 1,
   "id": "0cc44d2b",
   "metadata": {},
   "outputs": [],
   "source": [
    "import numpy as np\n",
    "import pandas as pd\n",
    "import matplotlib.pyplot as plt\n",
    "import seaborn as sns\n",
    "import scipy.stats as stats"
   ]
  },
  {
   "cell_type": "markdown",
   "id": "e9da1ee8",
   "metadata": {},
   "source": [
    "Question 1"
   ]
  },
  {
   "cell_type": "markdown",
   "id": "b0df7b00",
   "metadata": {},
   "source": [
    "1. Read the CSV file"
   ]
  },
  {
   "cell_type": "code",
   "execution_count": 2,
   "id": "be080935",
   "metadata": {},
   "outputs": [],
   "source": [
    "CompanyX_EU = pd.read_csv(r'C:\\Users\\GARAVIN4\\Documents\\GL Course\\Applied Statistics\\CompanyX_EU.csv')"
   ]
  },
  {
   "cell_type": "code",
   "execution_count": 3,
   "id": "95b67ae2",
   "metadata": {},
   "outputs": [
    {
     "data": {
      "text/html": [
       "<div>\n",
       "<style scoped>\n",
       "    .dataframe tbody tr th:only-of-type {\n",
       "        vertical-align: middle;\n",
       "    }\n",
       "\n",
       "    .dataframe tbody tr th {\n",
       "        vertical-align: top;\n",
       "    }\n",
       "\n",
       "    .dataframe thead th {\n",
       "        text-align: right;\n",
       "    }\n",
       "</style>\n",
       "<table border=\"1\" class=\"dataframe\">\n",
       "  <thead>\n",
       "    <tr style=\"text-align: right;\">\n",
       "      <th></th>\n",
       "      <th>Startup</th>\n",
       "      <th>Product</th>\n",
       "      <th>Funding</th>\n",
       "      <th>Event</th>\n",
       "      <th>Result</th>\n",
       "      <th>OperatingState</th>\n",
       "    </tr>\n",
       "  </thead>\n",
       "  <tbody>\n",
       "    <tr>\n",
       "      <th>0</th>\n",
       "      <td>2600Hz</td>\n",
       "      <td>2600hz.com</td>\n",
       "      <td>NaN</td>\n",
       "      <td>Disrupt SF 2013</td>\n",
       "      <td>Contestant</td>\n",
       "      <td>Operating</td>\n",
       "    </tr>\n",
       "    <tr>\n",
       "      <th>1</th>\n",
       "      <td>3DLT</td>\n",
       "      <td>3dlt.com</td>\n",
       "      <td>$630K</td>\n",
       "      <td>Disrupt NYC 2013</td>\n",
       "      <td>Contestant</td>\n",
       "      <td>Closed</td>\n",
       "    </tr>\n",
       "    <tr>\n",
       "      <th>2</th>\n",
       "      <td>3DPrinterOS</td>\n",
       "      <td>3dprinteros.com</td>\n",
       "      <td>NaN</td>\n",
       "      <td>Disrupt SF 2016</td>\n",
       "      <td>Contestant</td>\n",
       "      <td>Operating</td>\n",
       "    </tr>\n",
       "    <tr>\n",
       "      <th>3</th>\n",
       "      <td>3Dprintler</td>\n",
       "      <td>3dprintler.com</td>\n",
       "      <td>$1M</td>\n",
       "      <td>Disrupt NY 2016</td>\n",
       "      <td>Audience choice</td>\n",
       "      <td>Operating</td>\n",
       "    </tr>\n",
       "    <tr>\n",
       "      <th>4</th>\n",
       "      <td>42 Technologies</td>\n",
       "      <td>42technologies.com</td>\n",
       "      <td>NaN</td>\n",
       "      <td>Disrupt NYC 2013</td>\n",
       "      <td>Contestant</td>\n",
       "      <td>Operating</td>\n",
       "    </tr>\n",
       "  </tbody>\n",
       "</table>\n",
       "</div>"
      ],
      "text/plain": [
       "           Startup             Product Funding             Event  \\\n",
       "0           2600Hz          2600hz.com     NaN   Disrupt SF 2013   \n",
       "1             3DLT            3dlt.com   $630K  Disrupt NYC 2013   \n",
       "2      3DPrinterOS     3dprinteros.com     NaN   Disrupt SF 2016   \n",
       "3       3Dprintler      3dprintler.com     $1M   Disrupt NY 2016   \n",
       "4  42 Technologies  42technologies.com     NaN  Disrupt NYC 2013   \n",
       "\n",
       "            Result OperatingState  \n",
       "0       Contestant      Operating  \n",
       "1       Contestant         Closed  \n",
       "2       Contestant      Operating  \n",
       "3  Audience choice      Operating  \n",
       "4       Contestant      Operating  "
      ]
     },
     "execution_count": 3,
     "metadata": {},
     "output_type": "execute_result"
    }
   ],
   "source": [
    "CompanyX_EU.head(5)"
   ]
  },
  {
   "cell_type": "markdown",
   "id": "f5a95991",
   "metadata": {},
   "source": [
    "Question 2"
   ]
  },
  {
   "cell_type": "markdown",
   "id": "f0ac8b95",
   "metadata": {},
   "source": [
    "2.A. Check the datatypes of each attribute"
   ]
  },
  {
   "cell_type": "code",
   "execution_count": 4,
   "id": "01321701",
   "metadata": {},
   "outputs": [
    {
     "data": {
      "text/plain": [
       "Startup           object\n",
       "Product           object\n",
       "Funding           object\n",
       "Event             object\n",
       "Result            object\n",
       "OperatingState    object\n",
       "dtype: object"
      ]
     },
     "execution_count": 4,
     "metadata": {},
     "output_type": "execute_result"
    }
   ],
   "source": [
    "CompanyX_EU.dtypes"
   ]
  },
  {
   "cell_type": "markdown",
   "id": "99c8c9fd",
   "metadata": {},
   "source": [
    "2.B. Check for null values in the attributes"
   ]
  },
  {
   "cell_type": "code",
   "execution_count": 5,
   "id": "bffb3c18",
   "metadata": {},
   "outputs": [
    {
     "data": {
      "text/plain": [
       "Startup             0\n",
       "Product             6\n",
       "Funding           214\n",
       "Event               0\n",
       "Result              0\n",
       "OperatingState      0\n",
       "dtype: int64"
      ]
     },
     "execution_count": 5,
     "metadata": {},
     "output_type": "execute_result"
    }
   ],
   "source": [
    "CompanyX_EU.isnull().sum()"
   ]
  },
  {
   "cell_type": "markdown",
   "id": "6408de28",
   "metadata": {},
   "source": [
    "Question 3"
   ]
  },
  {
   "cell_type": "markdown",
   "id": "94a686f8",
   "metadata": {},
   "source": [
    "3.A. Drop the null values"
   ]
  },
  {
   "cell_type": "code",
   "execution_count": 6,
   "id": "92a40b74",
   "metadata": {},
   "outputs": [],
   "source": [
    "CompanyX_EU.dropna(inplace=True)"
   ]
  },
  {
   "cell_type": "code",
   "execution_count": 7,
   "id": "1850c186",
   "metadata": {},
   "outputs": [
    {
     "data": {
      "text/plain": [
       "Startup           0\n",
       "Product           0\n",
       "Funding           0\n",
       "Event             0\n",
       "Result            0\n",
       "OperatingState    0\n",
       "dtype: int64"
      ]
     },
     "execution_count": 7,
     "metadata": {},
     "output_type": "execute_result"
    }
   ],
   "source": [
    "CompanyX_EU.isnull().sum()"
   ]
  },
  {
   "cell_type": "markdown",
   "id": "6584d471",
   "metadata": {},
   "source": [
    "3.B. Convert the ‘Funding’ features to a numerical value"
   ]
  },
  {
   "cell_type": "code",
   "execution_count": 8,
   "id": "faff28a2",
   "metadata": {},
   "outputs": [],
   "source": [
    "CompanyX_EU.loc[:,'Funds_in_million'] = CompanyX_EU['Funding'].apply(lambda x: float(x[1:-1])/1000 if x[-1] == 'K' else (float(x[1:-1])*1000 if x[-1] == 'B' else float(x[1:-1])))"
   ]
  },
  {
   "cell_type": "code",
   "execution_count": 9,
   "id": "dc31773b",
   "metadata": {},
   "outputs": [
    {
     "data": {
      "text/html": [
       "<div>\n",
       "<style scoped>\n",
       "    .dataframe tbody tr th:only-of-type {\n",
       "        vertical-align: middle;\n",
       "    }\n",
       "\n",
       "    .dataframe tbody tr th {\n",
       "        vertical-align: top;\n",
       "    }\n",
       "\n",
       "    .dataframe thead th {\n",
       "        text-align: right;\n",
       "    }\n",
       "</style>\n",
       "<table border=\"1\" class=\"dataframe\">\n",
       "  <thead>\n",
       "    <tr style=\"text-align: right;\">\n",
       "      <th></th>\n",
       "      <th>Startup</th>\n",
       "      <th>Product</th>\n",
       "      <th>Funding</th>\n",
       "      <th>Event</th>\n",
       "      <th>Result</th>\n",
       "      <th>OperatingState</th>\n",
       "      <th>Funds_in_million</th>\n",
       "    </tr>\n",
       "  </thead>\n",
       "  <tbody>\n",
       "    <tr>\n",
       "      <th>1</th>\n",
       "      <td>3DLT</td>\n",
       "      <td>3dlt.com</td>\n",
       "      <td>$630K</td>\n",
       "      <td>Disrupt NYC 2013</td>\n",
       "      <td>Contestant</td>\n",
       "      <td>Closed</td>\n",
       "      <td>0.63</td>\n",
       "    </tr>\n",
       "    <tr>\n",
       "      <th>3</th>\n",
       "      <td>3Dprintler</td>\n",
       "      <td>3dprintler.com</td>\n",
       "      <td>$1M</td>\n",
       "      <td>Disrupt NY 2016</td>\n",
       "      <td>Audience choice</td>\n",
       "      <td>Operating</td>\n",
       "      <td>1.00</td>\n",
       "    </tr>\n",
       "    <tr>\n",
       "      <th>5</th>\n",
       "      <td>5to1</td>\n",
       "      <td>5to1.com</td>\n",
       "      <td>$19.3M</td>\n",
       "      <td>TC50 2009</td>\n",
       "      <td>Contestant</td>\n",
       "      <td>Acquired</td>\n",
       "      <td>19.30</td>\n",
       "    </tr>\n",
       "    <tr>\n",
       "      <th>6</th>\n",
       "      <td>8 Securities</td>\n",
       "      <td>8securities.com</td>\n",
       "      <td>$29M</td>\n",
       "      <td>Disrupt Beijing 2011</td>\n",
       "      <td>Finalist</td>\n",
       "      <td>Operating</td>\n",
       "      <td>29.00</td>\n",
       "    </tr>\n",
       "    <tr>\n",
       "      <th>10</th>\n",
       "      <td>AdhereTech</td>\n",
       "      <td>adheretech.com</td>\n",
       "      <td>$1.8M</td>\n",
       "      <td>Hardware Battlefield 2014</td>\n",
       "      <td>Contestant</td>\n",
       "      <td>Operating</td>\n",
       "      <td>1.80</td>\n",
       "    </tr>\n",
       "  </tbody>\n",
       "</table>\n",
       "</div>"
      ],
      "text/plain": [
       "         Startup          Product Funding                      Event  \\\n",
       "1           3DLT         3dlt.com   $630K           Disrupt NYC 2013   \n",
       "3     3Dprintler   3dprintler.com     $1M            Disrupt NY 2016   \n",
       "5           5to1         5to1.com  $19.3M                  TC50 2009   \n",
       "6   8 Securities  8securities.com    $29M       Disrupt Beijing 2011   \n",
       "10    AdhereTech   adheretech.com   $1.8M  Hardware Battlefield 2014   \n",
       "\n",
       "             Result OperatingState  Funds_in_million  \n",
       "1        Contestant         Closed              0.63  \n",
       "3   Audience choice      Operating              1.00  \n",
       "5        Contestant       Acquired             19.30  \n",
       "6          Finalist      Operating             29.00  \n",
       "10       Contestant      Operating              1.80  "
      ]
     },
     "execution_count": 9,
     "metadata": {},
     "output_type": "execute_result"
    }
   ],
   "source": [
    "CompanyX_EU.head(5)"
   ]
  },
  {
   "cell_type": "markdown",
   "id": "54a0c8c0",
   "metadata": {},
   "source": [
    "3.C. Plot box plot for funds in million"
   ]
  },
  {
   "cell_type": "code",
   "execution_count": 10,
   "id": "2ee68ed9",
   "metadata": {},
   "outputs": [
    {
     "data": {
      "image/png": "[encoded data removed]",
      "text/plain": [
       "<Figure size 432x288 with 1 Axes>"
      ]
     },
     "metadata": {
      "needs_background": "light"
     },
     "output_type": "display_data"
    }
   ],
   "source": [
    "#sns.boxplot(y=CompanyX_EU[\"Funds_in_million\"]);\n",
    "#plt.show()\n",
    "CompanyX_EU[\"Funds_in_million\"].plot(kind='box');"
   ]
  },
  {
   "cell_type": "markdown",
   "id": "c1a2237c",
   "metadata": {},
   "source": [
    "3.D. Check the number of outliers greater than the upper fence"
   ]
  },
  {
   "cell_type": "code",
   "execution_count": 11,
   "id": "89cae642",
   "metadata": {},
   "outputs": [
    {
     "data": {
      "text/plain": [
       "60"
      ]
     },
     "execution_count": 11,
     "metadata": {},
     "output_type": "execute_result"
    }
   ],
   "source": [
    "arr_funds = np.array(CompanyX_EU[\"Funds_in_million\"])\n",
    "\n",
    "q1 = np.quantile(arr_funds, 0.25)\n",
    "q3 = np.quantile(arr_funds, 0.75)\n",
    "iqr = q3-q1\n",
    " \n",
    "upper_bound = q3+(1.5*iqr)\n",
    "len(arr_funds[(arr_funds > upper_bound)])"
   ]
  },
  {
   "cell_type": "markdown",
   "id": "a01119ae",
   "metadata": {},
   "source": [
    "3.E. Check frequency of the OperatingState features classes"
   ]
  },
  {
   "cell_type": "code",
   "execution_count": 12,
   "id": "3b796bc6",
   "metadata": {},
   "outputs": [
    {
     "data": {
      "text/plain": [
       "Operating    319\n",
       "Acquired      66\n",
       "Closed        57\n",
       "Ipo            4\n",
       "Name: OperatingState, dtype: int64"
      ]
     },
     "execution_count": 12,
     "metadata": {},
     "output_type": "execute_result"
    }
   ],
   "source": [
    "CompanyX_EU[\"OperatingState\"].value_counts()"
   ]
  },
  {
   "cell_type": "markdown",
   "id": "088a0bfb",
   "metadata": {},
   "source": [
    "Question 4"
   ]
  },
  {
   "cell_type": "markdown",
   "id": "240b192c",
   "metadata": {},
   "source": [
    "4.A. Is there any significant difference between Funds raised by companies that are still operating vs companies that closed down"
   ]
  },
  {
   "cell_type": "markdown",
   "id": "231f2d28",
   "metadata": {},
   "source": [
    "Yes, there is a significant difference. Please refer to 4.B and 4.C for the analysis."
   ]
  },
  {
   "cell_type": "markdown",
   "id": "3769bc74",
   "metadata": {},
   "source": [
    "4.B. Write the null hypothesis and alternative hypothesis"
   ]
  },
  {
   "cell_type": "markdown",
   "id": "29a08527",
   "metadata": {},
   "source": [
    "Null: Mean funds raised by operating companies = Mean funds raised by closed companies\n",
    "\n",
    "Alternate: Mean funds raised by operating companies != Mean funds raised by closed companies"
   ]
  },
  {
   "cell_type": "markdown",
   "id": "099537a6",
   "metadata": {},
   "source": [
    "4.C. Test for significance and conclusion"
   ]
  },
  {
   "cell_type": "code",
   "execution_count": 13,
   "id": "5a2ca952",
   "metadata": {},
   "outputs": [
    {
     "data": {
      "text/plain": [
       "Ttest_indResult(statistic=2.6727214329249227, pvalue=0.007898898722704632)"
      ]
     },
     "execution_count": 13,
     "metadata": {},
     "output_type": "execute_result"
    }
   ],
   "source": [
    "stats.ttest_ind(a=CompanyX_EU[CompanyX_EU[\"OperatingState\"] == \"Operating\"][\"Funds_in_million\"], b=CompanyX_EU[CompanyX_EU[\"OperatingState\"] == \"Closed\"][\"Funds_in_million\"], equal_var=False)"
   ]
  },
  {
   "cell_type": "markdown",
   "id": "f4130532",
   "metadata": {},
   "source": [
    "Conclusion: since p-value < 0.05, we reject null hypothesis and conclude that there is a significant difference between Funds raised by companies that are still operating vs companies that closed down"
   ]
  },
  {
   "cell_type": "markdown",
   "id": "6e2bac48",
   "metadata": {},
   "source": [
    "4.D. Make a copy of the original data frame"
   ]
  },
  {
   "cell_type": "code",
   "execution_count": 16,
   "id": "7c7acae1",
   "metadata": {},
   "outputs": [
    {
     "data": {
      "text/html": [
       "<div>\n",
       "<style scoped>\n",
       "    .dataframe tbody tr th:only-of-type {\n",
       "        vertical-align: middle;\n",
       "    }\n",
       "\n",
       "    .dataframe tbody tr th {\n",
       "        vertical-align: top;\n",
       "    }\n",
       "\n",
       "    .dataframe thead th {\n",
       "        text-align: right;\n",
       "    }\n",
       "</style>\n",
       "<table border=\"1\" class=\"dataframe\">\n",
       "  <thead>\n",
       "    <tr style=\"text-align: right;\">\n",
       "      <th></th>\n",
       "      <th>Startup</th>\n",
       "      <th>Product</th>\n",
       "      <th>Funding</th>\n",
       "      <th>Event</th>\n",
       "      <th>Result</th>\n",
       "      <th>OperatingState</th>\n",
       "      <th>Funds_in_million</th>\n",
       "    </tr>\n",
       "  </thead>\n",
       "  <tbody>\n",
       "    <tr>\n",
       "      <th>1</th>\n",
       "      <td>3DLT</td>\n",
       "      <td>3dlt.com</td>\n",
       "      <td>$630K</td>\n",
       "      <td>Disrupt NYC 2013</td>\n",
       "      <td>Contestant</td>\n",
       "      <td>Closed</td>\n",
       "      <td>0.63</td>\n",
       "    </tr>\n",
       "    <tr>\n",
       "      <th>3</th>\n",
       "      <td>3Dprintler</td>\n",
       "      <td>3dprintler.com</td>\n",
       "      <td>$1M</td>\n",
       "      <td>Disrupt NY 2016</td>\n",
       "      <td>Audience choice</td>\n",
       "      <td>Operating</td>\n",
       "      <td>1.00</td>\n",
       "    </tr>\n",
       "    <tr>\n",
       "      <th>5</th>\n",
       "      <td>5to1</td>\n",
       "      <td>5to1.com</td>\n",
       "      <td>$19.3M</td>\n",
       "      <td>TC50 2009</td>\n",
       "      <td>Contestant</td>\n",
       "      <td>Acquired</td>\n",
       "      <td>19.30</td>\n",
       "    </tr>\n",
       "    <tr>\n",
       "      <th>6</th>\n",
       "      <td>8 Securities</td>\n",
       "      <td>8securities.com</td>\n",
       "      <td>$29M</td>\n",
       "      <td>Disrupt Beijing 2011</td>\n",
       "      <td>Finalist</td>\n",
       "      <td>Operating</td>\n",
       "      <td>29.00</td>\n",
       "    </tr>\n",
       "    <tr>\n",
       "      <th>10</th>\n",
       "      <td>AdhereTech</td>\n",
       "      <td>adheretech.com</td>\n",
       "      <td>$1.8M</td>\n",
       "      <td>Hardware Battlefield 2014</td>\n",
       "      <td>Contestant</td>\n",
       "      <td>Operating</td>\n",
       "      <td>1.80</td>\n",
       "    </tr>\n",
       "  </tbody>\n",
       "</table>\n",
       "</div>"
      ],
      "text/plain": [
       "         Startup          Product Funding                      Event  \\\n",
       "1           3DLT         3dlt.com   $630K           Disrupt NYC 2013   \n",
       "3     3Dprintler   3dprintler.com     $1M            Disrupt NY 2016   \n",
       "5           5to1         5to1.com  $19.3M                  TC50 2009   \n",
       "6   8 Securities  8securities.com    $29M       Disrupt Beijing 2011   \n",
       "10    AdhereTech   adheretech.com   $1.8M  Hardware Battlefield 2014   \n",
       "\n",
       "             Result OperatingState  Funds_in_million  \n",
       "1        Contestant         Closed              0.63  \n",
       "3   Audience choice      Operating              1.00  \n",
       "5        Contestant       Acquired             19.30  \n",
       "6          Finalist      Operating             29.00  \n",
       "10       Contestant      Operating              1.80  "
      ]
     },
     "execution_count": 16,
     "metadata": {},
     "output_type": "execute_result"
    }
   ],
   "source": [
    "CompanyX_EU_Copy = CompanyX_EU.copy() \n",
    "CompanyX_EU_Copy.head(5)"
   ]
  },
  {
   "cell_type": "markdown",
   "id": "597379af",
   "metadata": {},
   "source": [
    "4.E. Check frequency distribution of Result variables"
   ]
  },
  {
   "cell_type": "code",
   "execution_count": 17,
   "id": "5c996cc4",
   "metadata": {},
   "outputs": [
    {
     "data": {
      "text/plain": [
       "Contestant         312\n",
       "Finalist            65\n",
       "Audience choice     25\n",
       "Winner              25\n",
       "Runner up           19\n",
       "Name: Result, dtype: int64"
      ]
     },
     "execution_count": 17,
     "metadata": {},
     "output_type": "execute_result"
    }
   ],
   "source": [
    "CompanyX_EU[\"Result\"].value_counts()"
   ]
  },
  {
   "cell_type": "markdown",
   "id": "867793b0",
   "metadata": {},
   "source": [
    "4.F. Calculate percentage of winners that are still operating and percentage of contestants that are still operating"
   ]
  },
  {
   "cell_type": "code",
   "execution_count": 18,
   "id": "f6a8e794",
   "metadata": {},
   "outputs": [
    {
     "name": "stdout",
     "output_type": "stream",
     "text": [
      "Percentage of winners that are still operating: 4.04 %\n",
      "Percentage of contestants that are still operating: 47.98 %\n"
     ]
    }
   ],
   "source": [
    "print(\"Percentage of winners that are still operating:\", round(CompanyX_EU[CompanyX_EU[\"Result\"]==\"Winner\"][\"OperatingState\"].value_counts()[\"Operating\"] / len(CompanyX_EU)*100,2),\"%\")\n",
    "print(\"Percentage of contestants that are still operating:\", round(CompanyX_EU[CompanyX_EU[\"Result\"]==\"Contestant\"][\"OperatingState\"].value_counts()[\"Operating\"] / len(CompanyX_EU)*100,2),\"%\")"
   ]
  },
  {
   "cell_type": "markdown",
   "id": "48e6a578",
   "metadata": {},
   "source": [
    "4.G. Write your hypothesis comparing the proportion of companies that are operating between winners and contestants"
   ]
  },
  {
   "cell_type": "markdown",
   "id": "3936001a",
   "metadata": {},
   "source": [
    "Null: Proportion of companies that are operating between winners and contestants are equal\n",
    "\n",
    "Alternate: Proportion of companies that are operating between winners and contestants are not equal"
   ]
  },
  {
   "cell_type": "markdown",
   "id": "2d7d16f5",
   "metadata": {},
   "source": [
    "4.H. Test for significance and conclusion"
   ]
  },
  {
   "cell_type": "code",
   "execution_count": 19,
   "id": "830d331e",
   "metadata": {},
   "outputs": [
    {
     "data": {
      "text/plain": [
       "(14.959688081728588, 1.3465568386354265e-50)"
      ]
     },
     "execution_count": 19,
     "metadata": {},
     "output_type": "execute_result"
    }
   ],
   "source": [
    "n_prop = np.array([CompanyX_EU.groupby(\"OperatingState\")[\"Result\"].value_counts()[(\"Operating\", \"Contestant\")],CompanyX_EU.groupby(\"OperatingState\")[\"Result\"].value_counts()[(\"Operating\", \"Winner\")]])\n",
    "n_rows = np.array(CompanyX_EU.groupby(\"OperatingState\")[\"Result\"].value_counts().sum())\n",
    "from statsmodels.stats.proportion import proportions_ztest\n",
    "proportions_ztest(count=n_prop, nobs=n_rows, alternative=\"two-sided\")"
   ]
  },
  {
   "cell_type": "markdown",
   "id": "aadc5380",
   "metadata": {},
   "source": [
    "Conclusion: since p-value < 0.05 then we reject null hypothesis i.e, proportion of companies that are operating between winners and contestants are not equal"
   ]
  },
  {
   "cell_type": "markdown",
   "id": "c20fa267",
   "metadata": {},
   "source": [
    "4.I. Select only the Event that has ‘disrupt’ keyword from 2013 onwards"
   ]
  },
  {
   "cell_type": "code",
   "execution_count": 20,
   "id": "9e5e5c2f",
   "metadata": {},
   "outputs": [
    {
     "data": {
      "text/plain": [
       "['Disrupt NYC 2013',\n",
       " 'Disrupt NY 2016',\n",
       " 'Disrupt SF 2015',\n",
       " 'Disrupt London 2016',\n",
       " 'Disrupt NYC 2014',\n",
       " 'Disrupt EU 2013',\n",
       " 'Disrupt SF 2014',\n",
       " 'Disrupt SF 2013',\n",
       " 'Disrupt NY 2015',\n",
       " 'Disrupt SF 2016',\n",
       " 'Disrupt London 2015',\n",
       " 'Disrupt EU 2014']"
      ]
     },
     "execution_count": 20,
     "metadata": {},
     "output_type": "execute_result"
    }
   ],
   "source": [
    "res = []\n",
    "arr = list(CompanyX_EU[\"Event\"].unique())\n",
    "arr\n",
    "for i in arr:\n",
    "    if \"Disrupt\" in i:\n",
    "        res.append(i)\n",
    "res1 = []\n",
    "for i in res:\n",
    "    for j in i.split():\n",
    "        if j.isdigit():\n",
    "            res1.append(eval(j))\n",
    "res2 = []\n",
    "for i in res1:\n",
    "    if i>=2013:\n",
    "        res2.append(True)\n",
    "    else:\n",
    "        res2.append(False)\n",
    "final = np.array(res)\n",
    "list(final[np.array(res2)])"
   ]
  },
  {
   "cell_type": "markdown",
   "id": "44f2fe09",
   "metadata": {},
   "source": [
    "THANK YOU!"
   ]
  }
 ],
 "metadata": {
  "kernelspec": {
   "display_name": "Python 3",
   "language": "python",
   "name": "python3"
  },
  "language_info": {
   "codemirror_mode": {
    "name": "ipython",
    "version": 3
   },
   "file_extension": ".py",
   "mimetype": "text/x-python",
   "name": "python",
   "nbconvert_exporter": "python",
   "pygments_lexer": "ipython3",
   "version": "3.8.8"
  }
 },
 "nbformat": 4,
 "nbformat_minor": 5
}
